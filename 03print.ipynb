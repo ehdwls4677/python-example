{
 "cells": [
  {
   "cell_type": "markdown",
   "id": "8a937807",
   "metadata": {},
   "source": [
    "### 출력문"
   ]
  },
  {
   "cell_type": "code",
   "execution_count": 5,
   "id": "6820417d",
   "metadata": {},
   "outputs": [
    {
     "name": "stdout",
     "output_type": "stream",
     "text": [
      "멍멍이고양이내친구1홍길동\n",
      "멍멍이-고양이-내친구-1-홍길동\n",
      "멍멍이->고양이->내친구->1->홍길동\n"
     ]
    }
   ],
   "source": [
    "dog = '멍멍이'\n",
    "cat = '고양이'\n",
    "pig = '내친구'\n",
    "\n",
    "# print 함수는 sep이 속성이 있습니다.\n",
    "# sep속성을 아무것도 적지 않으면 \"\" 기본값이 됩니다.\n",
    "\n",
    "print(dog , cat , pig , 1 , \"홍길동\" , sep=\"\")\n",
    "print(dog , cat , pig , 1 , \"홍길동\" , sep=\"-\")\n",
    "print(dog , cat , pig , 1 , \"홍길동\" , sep=\"->\")"
   ]
  },
  {
   "cell_type": "code",
   "execution_count": 12,
   "id": "2d4870d4",
   "metadata": {},
   "outputs": [
    {
     "name": "stdout",
     "output_type": "stream",
     "text": [
      "멍멍이 고양이 내친구\n",
      "이 줄은 개행이 진행 됬나요?\n"
     ]
    }
   ],
   "source": [
    "# end 속성은 출력문 맨 끝에 포함할 문자를 지정하는 용도입니다.\n",
    "# 아무것도 적지 않으면 \\n이 기본값 입니다.\n",
    "\n",
    "print(dog , cat , pig , end=\"\\n\" )\n",
    "print(\"이 줄은 개행이 진행 됬나요?\")"
   ]
  },
  {
   "cell_type": "code",
   "execution_count": 13,
   "id": "0d5dd1d8",
   "metadata": {},
   "outputs": [
    {
     "name": "stdout",
     "output_type": "stream",
     "text": [
      "내일봐^^\n",
      " !!\n"
     ]
    }
   ],
   "source": [
    "a = \"내일봐^^\\n\"\n",
    "b = \"!!\"\n",
    "\n",
    "print(a , b)"
   ]
  },
  {
   "cell_type": "code",
   "execution_count": 19,
   "id": "59b9ab79",
   "metadata": {},
   "outputs": [
    {
     "name": "stdout",
     "output_type": "stream",
     "text": [
      "내친구!!안녕!!잘가내일봐^^"
     ]
    }
   ],
   "source": [
    "a = \"내친구!!\"\n",
    "b = \"안녕!!\"\n",
    "c = \"잘가내일봐^^\"\n",
    "\n",
    "print(a , b, c , end =\"\" , sep =\"\")"
   ]
  },
  {
   "cell_type": "code",
   "execution_count": null,
   "id": "7971f0e8",
   "metadata": {},
   "outputs": [],
   "source": [
    "a = \"내일봐^^\\n\"\n",
    "b = "
   ]
  },
  {
   "cell_type": "markdown",
   "id": "09b9e95d",
   "metadata": {},
   "source": [
    "### format 함수"
   ]
  },
  {
   "cell_type": "code",
   "execution_count": 22,
   "id": "52b5a9f6",
   "metadata": {},
   "outputs": [
    {
     "name": "stdout",
     "output_type": "stream",
     "text": [
      "오늘은 2023년 10월 18일 입니다.\n"
     ]
    }
   ],
   "source": [
    "years = 2023\n",
    "month = 10\n",
    "day = 18\n",
    "\n",
    "print(\"오늘은 \" , years , \"년 \" , month , \"월 \" , day , \"일 입니다.\" , sep = \"\" )\n"
   ]
  },
  {
   "cell_type": "code",
   "execution_count": 30,
   "id": "c76c3216",
   "metadata": {},
   "outputs": [
    {
     "name": "stdout",
     "output_type": "stream",
     "text": [
      "오늘은 2023년 10월 18일 입니다.\n",
      "오늘은 2023년 10월 18일 입니다.\n"
     ]
    }
   ],
   "source": [
    "print(\"오늘은 {}년 {}월 {}일 입니다.\" .format(years , month , day))\n",
    "print(\"오늘은 {1}년 {2}월 {0}일 입니다.\" .format(day , years , month))"
   ]
  },
  {
   "cell_type": "markdown",
   "id": "882c896e",
   "metadata": {},
   "source": [
    "#### f-string 출력"
   ]
  },
  {
   "cell_type": "code",
   "execution_count": 34,
   "id": "b731d5ca",
   "metadata": {},
   "outputs": [
    {
     "name": "stdout",
     "output_type": "stream",
     "text": [
      "안녕은 영어로 hello, 원주율은 3.14, 진실은 영어로 True\n"
     ]
    }
   ],
   "source": [
    "a1 = 'hello'\n",
    "a2 = 3.14\n",
    "a3 = True\n",
    "\n",
    "\n",
    "print( f'안녕은 영어로 {a1}, 원주율은 {a2}, 진실은 영어로 {a3}')"
   ]
  },
  {
   "cell_type": "code",
   "execution_count": null,
   "id": "fa0ad5b8",
   "metadata": {},
   "outputs": [],
   "source": []
  },
  {
   "cell_type": "code",
   "execution_count": null,
   "id": "ccfa9df1",
   "metadata": {},
   "outputs": [],
   "source": []
  },
  {
   "cell_type": "code",
   "execution_count": null,
   "id": "afd2a35c",
   "metadata": {},
   "outputs": [],
   "source": []
  },
  {
   "cell_type": "code",
   "execution_count": null,
   "id": "8964388b",
   "metadata": {},
   "outputs": [],
   "source": []
  },
  {
   "cell_type": "code",
   "execution_count": null,
   "id": "97d72fef",
   "metadata": {},
   "outputs": [],
   "source": []
  },
  {
   "cell_type": "code",
   "execution_count": null,
   "id": "b36a7da6",
   "metadata": {},
   "outputs": [],
   "source": []
  },
  {
   "cell_type": "code",
   "execution_count": null,
   "id": "09aaccf6",
   "metadata": {},
   "outputs": [],
   "source": []
  },
  {
   "cell_type": "code",
   "execution_count": null,
   "id": "9607528f",
   "metadata": {},
   "outputs": [],
   "source": []
  }
 ],
 "metadata": {
  "kernelspec": {
   "display_name": "Python 3 (ipykernel)",
   "language": "python",
   "name": "python3"
  },
  "language_info": {
   "codemirror_mode": {
    "name": "ipython",
    "version": 3
   },
   "file_extension": ".py",
   "mimetype": "text/x-python",
   "name": "python",
   "nbconvert_exporter": "python",
   "pygments_lexer": "ipython3",
   "version": "3.11.5"
  }
 },
 "nbformat": 4,
 "nbformat_minor": 5
}
