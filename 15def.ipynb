{
 "cells": [
  {
   "cell_type": "markdown",
   "id": "ed1ae9c1",
   "metadata": {},
   "source": [
    "#### 함수\n",
    "- 반복되는 프로그램 코드에 묶어 놓은 것\n",
    "\n",
    "> def 함수명() :  \n",
    "- 함수를 정의 했다면 , 사용 하는 과정은 호출이라고 합니다"
   ]
  },
  {
   "cell_type": "code",
   "execution_count": 1,
   "id": "392d6574",
   "metadata": {},
   "outputs": [
    {
     "name": "stdout",
     "output_type": "stream",
     "text": [
      "합계: 55\n"
     ]
    }
   ],
   "source": [
    "# 1~10까지 합\n",
    "\n",
    "sum_ = 0\n",
    "\n",
    "for i in range(1,11) :\n",
    "    sum_ += i\n",
    "    \n",
    "print('합계:' , sum_)\n",
    "\n",
    "def calc() :\n",
    "    # 1~10까지 합\n",
    "\n",
    "    sum_ = 0\n",
    "\n",
    "    for i in range(1,11) :\n",
    "        sum_ += i\n",
    "    print('합계:' , sum_)"
   ]
  },
  {
   "cell_type": "code",
   "execution_count": 1,
   "id": "4c54d727",
   "metadata": {},
   "outputs": [],
   "source": [
    "# 함수의 정의\n",
    "def calc() :\n",
    "    # 1~10까지 합\n",
    "\n",
    "    sum_ = 0\n",
    "\n",
    "    for i in range(1,11) :\n",
    "        sum_ += i\n",
    "    print('합계:' , sum_)"
   ]
  },
  {
   "cell_type": "code",
   "execution_count": 3,
   "id": "e121185f",
   "metadata": {},
   "outputs": [
    {
     "name": "stdout",
     "output_type": "stream",
     "text": [
      "합계: 55\n"
     ]
    }
   ],
   "source": [
    "#함수의 호출 (재 사용이 가능)\n",
    "calc()\n"
   ]
  },
  {
   "cell_type": "code",
   "execution_count": 4,
   "id": "278530cd",
   "metadata": {},
   "outputs": [],
   "source": [
    "def calc():\n",
    "    s_=0\n",
    "    \n",
    "    for i in range(1,11) :\n",
    "        s_+=i\n",
    "    print(\"합계:\",s_)"
   ]
  },
  {
   "cell_type": "code",
   "execution_count": null,
   "id": "a0567003",
   "metadata": {},
   "outputs": [],
   "source": [
    "####매개 변수\n",
    "- 함수가 전달 받는 원자값"
   ]
  },
  {
   "cell_type": "code",
   "execution_count": 10,
   "id": "a967e2cd",
   "metadata": {},
   "outputs": [
    {
     "name": "stdout",
     "output_type": "stream",
     "text": [
      "10\n"
     ]
    }
   ],
   "source": [
    "# 어떤값을 전달 받아서 , 그 값까지의 합계를 구하는 함수\n",
    "def calc2(x) :\n",
    "    print(x)\n",
    "\n",
    "calc2(10)"
   ]
  },
  {
   "cell_type": "code",
   "execution_count": 11,
   "id": "7499df8d",
   "metadata": {},
   "outputs": [],
   "source": [
    "def calc2(x) :\n",
    "    sum_=0\n",
    "    for i in range(1,x+1):\n",
    "        sum_=+i\n",
    "    print(\"합계\", sum_)"
   ]
  },
  {
   "cell_type": "code",
   "execution_count": 13,
   "id": "c21fb697",
   "metadata": {},
   "outputs": [
    {
     "name": "stdout",
     "output_type": "stream",
     "text": [
      "합계 10\n",
      "합계 100\n",
      "합계 1000\n"
     ]
    }
   ],
   "source": [
    "calc2(10)\n",
    "calc2(100)\n",
    "calc2(1000)"
   ]
  },
  {
   "cell_type": "markdown",
   "id": "8f9d11c3",
   "metadata": {},
   "source": [
    "#### 함수의 리턴(return)\n",
    "\n",
    "- 함수를 호출 했을 때 , 호출 문장으로 돌려주는 값\n",
    "- 있을 수도 있고 , 없을 수도 있습니다"
   ]
  },
  {
   "cell_type": "code",
   "execution_count": 15,
   "id": "a53664b3",
   "metadata": {},
   "outputs": [],
   "source": [
    "# 매개 변수 2개 받아서 , 두 수 의 합을 돌려주는 (return) 함수\n",
    "\n",
    "def my_add(a,b) :\n",
    "    \n",
    "    result = a + b\n",
    "    \n",
    "    return result # 이 값은 함수의 호출 문장으로 돌아갑니다\n",
    "    "
   ]
  },
  {
   "cell_type": "code",
   "execution_count": 16,
   "id": "a08f55b1",
   "metadata": {},
   "outputs": [
    {
     "name": "stdout",
     "output_type": "stream",
     "text": [
      "3\n",
      "30\n",
      "300\n"
     ]
    }
   ],
   "source": [
    "print(my_add(1,2))\n",
    "print(my_add(10,20))\n",
    "\n",
    "a = my_add(100,200)\n",
    "print(a)"
   ]
  },
  {
   "cell_type": "code",
   "execution_count": null,
   "id": "87568889",
   "metadata": {},
   "outputs": [],
   "source": [
    "len([1,2,3])"
   ]
  },
  {
   "cell_type": "code",
   "execution_count": null,
   "id": "643e30e3",
   "metadata": {},
   "outputs": [],
   "source": [
    "# len 함수 따라 만들기\n",
    "def length(a) : # a는 리스트 일것이다.\n",
    "    \n",
    "    cnt = 0\n",
    "    for i in a :\n",
    "        cnt+=1\n",
    "    \n",
    "    return cnt"
   ]
  },
  {
   "cell_type": "code",
   "execution_count": null,
   "id": "83aaad2b",
   "metadata": {},
   "outputs": [],
   "source": [
    "print('공통내장함수:' , len([1,2,3]) ) #3\n",
    "print('내가만든함수:' , length([1,2,3])) #3"
   ]
  },
  {
   "cell_type": "code",
   "execution_count": 11,
   "id": "b753bc9d",
   "metadata": {},
   "outputs": [],
   "source": [
    "## 리턴의 다양한 모형 - 리턴값은 무엇이든 될 수 있습니다.\n",
    "\n",
    "## 리턴은 두번째 의미 - 함수의 종료\n",
    "\n",
    "## 리턴 이후에는 실행될 문장을 적지 않습니다 \n",
    "\n",
    "def operation(a, b) :\n",
    "    #리스트 or 튜플 or 사전 들도 반환이 됩니다\n",
    "    \n",
    "    x = a + b, a - b, a * b , a / b # 소괄호가 생략 될 경우 튜플로 묶인 하나의 값이 된다\n",
    "    return x\n",
    "    # print('이 문장은 실행 되나?') \n",
    "    \n"
   ]
  },
  {
   "cell_type": "code",
   "execution_count": 12,
   "id": "3a7cbcbe",
   "metadata": {},
   "outputs": [
    {
     "data": {
      "text/plain": [
       "(3, -1, 2, 0.5)"
      ]
     },
     "execution_count": 12,
     "metadata": {},
     "output_type": "execute_result"
    }
   ],
   "source": [
    "operation(1,2)"
   ]
  },
  {
   "cell_type": "code",
   "execution_count": 19,
   "id": "6862377b",
   "metadata": {},
   "outputs": [],
   "source": [
    "# return은 반드시 하나여야 하는데 , if 문장에서는 return 키워드를 적절하게 사용 가능 합니다.\n",
    "# 조건에 따라서 다른값을 반환 - 항상 큰 숫자에서 뺄셈\n",
    "def sum_(a, b) :\n",
    "    '''\n",
    "    result = 0\n",
    "    \n",
    "    if a > b :\n",
    "        result = a - b\n",
    "    else :\n",
    "        result = b - a\n",
    "        \n",
    "    return result    \n",
    "    '''\n",
    "    \n",
    "    if a > b:          # 조건문안에서는 어차피 하나만 실행이 되기 때문에 return값을 여러개 사용 가능 함\n",
    "        return a - b  # return은 함수의 종료를 의미\n",
    "    else:\n",
    "        return b - a"
   ]
  },
  {
   "cell_type": "code",
   "execution_count": 21,
   "id": "a9af9636",
   "metadata": {},
   "outputs": [
    {
     "name": "stdout",
     "output_type": "stream",
     "text": [
      "9\n",
      "9\n"
     ]
    }
   ],
   "source": [
    "print( sum_(10, 1) )\n",
    "print( sum_(1, 10) )"
   ]
  },
  {
   "cell_type": "markdown",
   "id": "8a4abe57",
   "metadata": {},
   "source": [
    "### 실습\n",
    "1. 자연수 n을 매개변수로 받아서 , n의 약수의 합을 반환하는 함수  \n",
    "\n",
    "2. 자연수 2개를 매개변수로 받아서 , 두 수 사이의 합계를 반환하는 함수  \n",
    "\n",
    "3. 자연수 n을 받아서 약수를 리스트로 반환하는 함수"
   ]
  },
  {
   "cell_type": "code",
   "execution_count": 115,
   "id": "f43163d4",
   "metadata": {},
   "outputs": [],
   "source": [
    "# 자연수 n을 매개변수로 받아서 , n의 약수의 합을 반환하는 함수\n",
    "def aaa(a) :\n",
    "    \n",
    "    sum_ = 0\n",
    "    \n",
    "    for i in range(1,a+1) :\n",
    "        if a % i == 0 :\n",
    "            sum_ += i\n",
    "    return sum_"
   ]
  },
  {
   "cell_type": "code",
   "execution_count": 114,
   "id": "302668a9",
   "metadata": {},
   "outputs": [
    {
     "data": {
      "text/plain": [
       "18"
      ]
     },
     "execution_count": 114,
     "metadata": {},
     "output_type": "execute_result"
    }
   ],
   "source": [
    "aaa(10)"
   ]
  }
 ],
 "metadata": {
  "kernelspec": {
   "display_name": "Python 3 (ipykernel)",
   "language": "python",
   "name": "python3"
  },
  "language_info": {
   "codemirror_mode": {
    "name": "ipython",
    "version": 3
   },
   "file_extension": ".py",
   "mimetype": "text/x-python",
   "name": "python",
   "nbconvert_exporter": "python",
   "pygments_lexer": "ipython3",
   "version": "3.11.5"
  }
 },
 "nbformat": 4,
 "nbformat_minor": 5
}
