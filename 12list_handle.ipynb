{
 "cells": [
  {
   "cell_type": "code",
   "execution_count": 1,
   "id": "10bed0d8",
   "metadata": {},
   "outputs": [
    {
     "data": {
      "text/plain": [
       "True"
      ]
     },
     "execution_count": 1,
     "metadata": {},
     "output_type": "execute_result"
    }
   ],
   "source": [
    "points = [99, 17, 87, 100, 55, 100, 99, 100, 22]\n",
    "#index - 해당 값을 찾아서 발견한 인덱스를 반환\n",
    "\n",
    "#poits.index(2) # 찾는 값이 없으면 에러\n",
    "\n",
    "#points.index(100 ,4) #찾는값 #4번째 인덱스 부터 탐색\n",
    "points.count(100) # 100은 3개 있습니다.\n",
    "\n",
    "# in 문장\n",
    "101 in points # 있다면 True 반환 , 없으면 False\n",
    "100 in points"
   ]
  },
  {
   "cell_type": "code",
   "execution_count": 2,
   "id": "85112dcd",
   "metadata": {},
   "outputs": [
    {
     "name": "stdout",
     "output_type": "stream",
     "text": [
      "[17, 22, 55, 87, 99, 99, 100, 100, 100]\n",
      "[100, 100, 100, 99, 99, 87, 55, 22, 17]\n",
      "[17, 22, 55, 87, 99, 99, 100, 100, 100]\n",
      "[100, 100, 100, 99, 99, 87, 55, 22, 17]\n"
     ]
    }
   ],
   "source": [
    "#sort 정렬 , reverse\n",
    "\n",
    "points.sort() # 리스트 자체값이 정렬 됨\n",
    "\n",
    "print (points)\n",
    "\n",
    "# 내림차순 정렬\n",
    "points.sort(reverse = True)\n",
    "print(points)\n",
    "\n",
    "# 거꾸로\n",
    "points.reverse()\n",
    "print(points)\n",
    "points.reverse()\n",
    "print(points)"
   ]
  },
  {
   "cell_type": "code",
   "execution_count": 3,
   "id": "3e399333",
   "metadata": {},
   "outputs": [
    {
     "data": {
      "text/plain": [
       "[1, 2, 3, 100, 4, 100]"
      ]
     },
     "execution_count": 3,
     "metadata": {},
     "output_type": "execute_result"
    }
   ],
   "source": [
    "# 리스트에 값을 추가 insert , append\n",
    "\n",
    "nums = [1,2,3,4]\n",
    "nums.append(100) # 끝에 추가\n",
    "\n",
    "nums\n",
    "\n",
    "nums.insert(3,100) # 3번째 인덱스 , 100추가\n",
    "\n",
    "nums"
   ]
  },
  {
   "cell_type": "code",
   "execution_count": 4,
   "id": "782cb83a",
   "metadata": {},
   "outputs": [
    {
     "data": {
      "text/plain": [
       "[1, 2, 3, 4, 100]"
      ]
     },
     "execution_count": 4,
     "metadata": {},
     "output_type": "execute_result"
    }
   ],
   "source": [
    "# 삭제 remove , 공용함수 del , clear , pop\n",
    "# 값으로 지울 때 remove 사용\n",
    "nums.remove(100) # 첫번째 발견되는 100을 삭제\n",
    "nums"
   ]
  },
  {
   "cell_type": "code",
   "execution_count": 5,
   "id": "d94202f7",
   "metadata": {},
   "outputs": [
    {
     "data": {
      "text/plain": [
       "[2, 3, 4, 100]"
      ]
     },
     "execution_count": 5,
     "metadata": {},
     "output_type": "execute_result"
    }
   ],
   "source": [
    "# del은 인덱스 번호로 삭제\n",
    "del (nums [0]) # 0번 인덱스 삭제\n",
    "nums"
   ]
  },
  {
   "cell_type": "markdown",
   "id": "b5b68269",
   "metadata": {},
   "source": [
    "#### 실습\n",
    "1.빈리스트를 생성합니다.  \n",
    "2.사용자가 '그만'이라고 입력할 때 까지 음식이름을 입력받으세요  \n",
    "3.입력이 종료 되면 여태까지 받았던 음식이름이 리스트에 저장되게 해주세요.  "
   ]
  },
  {
   "cell_type": "code",
   "execution_count": 6,
   "id": "fcd6bd58",
   "metadata": {},
   "outputs": [
    {
     "name": "stdout",
     "output_type": "stream",
     "text": [
      "먹고 싶은 음식을 입력하세요\n",
      "그만 입력하려면 '그만' 이라고 쓰세요'\n"
     ]
    },
    {
     "ename": "KeyboardInterrupt",
     "evalue": "Interrupted by user",
     "output_type": "error",
     "traceback": [
      "\u001b[1;31m---------------------------------------------------------------------------\u001b[0m",
      "\u001b[1;31mKeyboardInterrupt\u001b[0m                         Traceback (most recent call last)",
      "Cell \u001b[1;32mIn[6], line 6\u001b[0m\n\u001b[0;32m      3\u001b[0m y \u001b[38;5;241m=\u001b[39m[]\n\u001b[0;32m      5\u001b[0m \u001b[38;5;28;01mwhile\u001b[39;00m \u001b[38;5;28;01mTrue\u001b[39;00m:\n\u001b[1;32m----> 6\u001b[0m     x \u001b[38;5;241m=\u001b[39m \u001b[38;5;28minput\u001b[39m(\u001b[38;5;124m\"\u001b[39m\u001b[38;5;124m먹고 싶은 음식을 입력하세요 >\u001b[39m\u001b[38;5;124m\"\u001b[39m)\n\u001b[0;32m      7\u001b[0m     \u001b[38;5;28;01mif\u001b[39;00m x \u001b[38;5;241m==\u001b[39m \u001b[38;5;124m\"\u001b[39m\u001b[38;5;124m그만\u001b[39m\u001b[38;5;124m\"\u001b[39m :\n\u001b[0;32m      8\u001b[0m         \u001b[38;5;28mprint\u001b[39m(\u001b[38;5;124mf\u001b[39m\u001b[38;5;124m'\u001b[39m\u001b[38;5;124m내가먹고싶은 음식\u001b[39m\u001b[38;5;132;01m{\u001b[39;00my\u001b[38;5;132;01m}\u001b[39;00m\u001b[38;5;124m'\u001b[39m)\n",
      "File \u001b[1;32mC:\\ProgramData\\anaconda3\\Lib\\site-packages\\ipykernel\\kernelbase.py:1202\u001b[0m, in \u001b[0;36mKernel.raw_input\u001b[1;34m(self, prompt)\u001b[0m\n\u001b[0;32m   1200\u001b[0m     msg \u001b[38;5;241m=\u001b[39m \u001b[38;5;124m\"\u001b[39m\u001b[38;5;124mraw_input was called, but this frontend does not support input requests.\u001b[39m\u001b[38;5;124m\"\u001b[39m\n\u001b[0;32m   1201\u001b[0m     \u001b[38;5;28;01mraise\u001b[39;00m StdinNotImplementedError(msg)\n\u001b[1;32m-> 1202\u001b[0m \u001b[38;5;28;01mreturn\u001b[39;00m \u001b[38;5;28mself\u001b[39m\u001b[38;5;241m.\u001b[39m_input_request(\n\u001b[0;32m   1203\u001b[0m     \u001b[38;5;28mstr\u001b[39m(prompt),\n\u001b[0;32m   1204\u001b[0m     \u001b[38;5;28mself\u001b[39m\u001b[38;5;241m.\u001b[39m_parent_ident[\u001b[38;5;124m\"\u001b[39m\u001b[38;5;124mshell\u001b[39m\u001b[38;5;124m\"\u001b[39m],\n\u001b[0;32m   1205\u001b[0m     \u001b[38;5;28mself\u001b[39m\u001b[38;5;241m.\u001b[39mget_parent(\u001b[38;5;124m\"\u001b[39m\u001b[38;5;124mshell\u001b[39m\u001b[38;5;124m\"\u001b[39m),\n\u001b[0;32m   1206\u001b[0m     password\u001b[38;5;241m=\u001b[39m\u001b[38;5;28;01mFalse\u001b[39;00m,\n\u001b[0;32m   1207\u001b[0m )\n",
      "File \u001b[1;32mC:\\ProgramData\\anaconda3\\Lib\\site-packages\\ipykernel\\kernelbase.py:1245\u001b[0m, in \u001b[0;36mKernel._input_request\u001b[1;34m(self, prompt, ident, parent, password)\u001b[0m\n\u001b[0;32m   1242\u001b[0m \u001b[38;5;28;01mexcept\u001b[39;00m \u001b[38;5;167;01mKeyboardInterrupt\u001b[39;00m:\n\u001b[0;32m   1243\u001b[0m     \u001b[38;5;66;03m# re-raise KeyboardInterrupt, to truncate traceback\u001b[39;00m\n\u001b[0;32m   1244\u001b[0m     msg \u001b[38;5;241m=\u001b[39m \u001b[38;5;124m\"\u001b[39m\u001b[38;5;124mInterrupted by user\u001b[39m\u001b[38;5;124m\"\u001b[39m\n\u001b[1;32m-> 1245\u001b[0m     \u001b[38;5;28;01mraise\u001b[39;00m \u001b[38;5;167;01mKeyboardInterrupt\u001b[39;00m(msg) \u001b[38;5;28;01mfrom\u001b[39;00m \u001b[38;5;28;01mNone\u001b[39;00m\n\u001b[0;32m   1246\u001b[0m \u001b[38;5;28;01mexcept\u001b[39;00m \u001b[38;5;167;01mException\u001b[39;00m:\n\u001b[0;32m   1247\u001b[0m     \u001b[38;5;28mself\u001b[39m\u001b[38;5;241m.\u001b[39mlog\u001b[38;5;241m.\u001b[39mwarning(\u001b[38;5;124m\"\u001b[39m\u001b[38;5;124mInvalid Message:\u001b[39m\u001b[38;5;124m\"\u001b[39m, exc_info\u001b[38;5;241m=\u001b[39m\u001b[38;5;28;01mTrue\u001b[39;00m)\n",
      "\u001b[1;31mKeyboardInterrupt\u001b[0m: Interrupted by user"
     ]
    }
   ],
   "source": [
    "print(\"먹고 싶은 음식을 입력하세요\")\n",
    "print(\"그만 입력하려면 '그만' 이라고 쓰세요'\")\n",
    "y =[]\n",
    "\n",
    "while True:\n",
    "    x = input(\"먹고 싶은 음식을 입력하세요 >\")\n",
    "    if x == \"그만\" :\n",
    "        print(f'내가먹고싶은 음식{y}')\n",
    "        break\n",
    "    else :\n",
    "        y.append(x)   "
   ]
  },
  {
   "cell_type": "markdown",
   "id": "5fc9d4c6",
   "metadata": {},
   "source": [
    "#### 실습\n",
    "\n",
    "- 리스트를 이용한 간략한 연락처 관리 프로그램 코드"
   ]
  },
  {
   "cell_type": "code",
   "execution_count": null,
   "id": "07d319d1",
   "metadata": {},
   "outputs": [
    {
     "name": "stdout",
     "output_type": "stream",
     "text": [
      "-------연락처 관리(메뉴)-------\n",
      "1.연락처 등록\n",
      "2.연락처 검색\n",
      "3.연락처 삭제\n",
      "4.모든 연락처 조회\n",
      "5.종료\n",
      "-------------------------------\n",
      "메뉴번호1\n",
      "등록할 이름과 번호를 입력해주세요\n",
      "이름d\n",
      "번호1\n",
      "d님의 연락처 1이 추가 되었습니다\n",
      "-------연락처 관리(메뉴)-------\n",
      "1.연락처 등록\n",
      "2.연락처 검색\n",
      "3.연락처 삭제\n",
      "4.모든 연락처 조회\n",
      "5.종료\n",
      "-------------------------------\n",
      "메뉴번호1\n",
      "등록할 이름과 번호를 입력해주세요\n",
      "이름a\n",
      "번호2\n",
      "a님의 연락처 2이 추가 되었습니다\n",
      "-------연락처 관리(메뉴)-------\n",
      "1.연락처 등록\n",
      "2.연락처 검색\n",
      "3.연락처 삭제\n",
      "4.모든 연락처 조회\n",
      "5.종료\n",
      "-------------------------------\n",
      "메뉴번호2\n",
      "연락처를 찾고 싶은 이름을 입력하세요a\n",
      "<built-in method index of list object at 0x0000023D73E84140>의 연락처는 <built-in method index of list object at 0x0000023D740AE400>입니다\n",
      "-------연락처 관리(메뉴)-------\n",
      "1.연락처 등록\n",
      "2.연락처 검색\n",
      "3.연락처 삭제\n",
      "4.모든 연락처 조회\n",
      "5.종료\n",
      "-------------------------------\n"
     ]
    }
   ],
   "source": [
    "name_list = [] # 이름을 저장할 리스트\n",
    "phone_list = [] #전화번호를 저장할 리스트\n",
    "x = name_list\n",
    "y = phone_list\n",
    "a = name_list.index\n",
    "b = phone_list.index\n",
    "while True :\n",
    "    print('-------연락처 관리(메뉴)-------')\n",
    "    print('1.연락처 등록')\n",
    "    print('2.연락처 검색')\n",
    "    print('3.연락처 삭제')\n",
    "    print('4.모든 연락처 조회')\n",
    "    print('5.종료')\n",
    "    print('-------------------------------')\n",
    "    \n",
    "    #사용자에게 메뉴를 입력 받음\n",
    "    menu = input('메뉴번호')\n",
    "    \n",
    "    if menu == '1' :\n",
    "        print(\"등록할 이름과 번호를 입력해주세요\")\n",
    "        name = input(\"이름\")\n",
    "        phone = input('번호')\n",
    "        name_list.append(name)\n",
    "        phone_list.append(phone)\n",
    "        print(f'{name}님의 연락처 {phone}이 추가 되었습니다')\n",
    "        \n",
    "    \n",
    "    elif menu == '2' :\n",
    "        findname = input(\"연락처를 찾고 싶은 이름을 입력하세요\")\n",
    "        if findname in x:\n",
    "            a = name_list.index\n",
    "            b = phone_list.index\n",
    "            \n",
    "            print(f'{findname}의 연락처는 {findname.index{v}}입니다')\n",
    "        else :\n",
    "            print(\"해당 이름을 가진 연락처가 없습니다.\")\n",
    "\n",
    "    elif menu == '3' :\n",
    "        print(\"삭제할 이름과 번호를 입력해주세요\")\n",
    "        name = input(\"이름\")\n",
    "        phone = input('번호')\n",
    "        name_list.remove(name)\n",
    "        phone_list.remove(phone)\n",
    "        print(f'{name}님의 연락처 {phone}이 삭제 되었습니다')\n",
    "    \n",
    "    elif menu == '4' :\n",
    "        print(\"모든 연락처들을 조회합니다.\")\n",
    "        for i in x :\n",
    "            print(i)\n",
    "        for j in y:\n",
    "            print(j)\n",
    "            \n",
    "    elif menu == '5' :\n",
    "        print(\"프로그램이 종료 됩니다.\")\n",
    "        break"
   ]
  },
  {
   "cell_type": "code",
   "execution_count": 8,
   "id": "10128e05",
   "metadata": {},
   "outputs": [
    {
     "name": "stdout",
     "output_type": "stream",
     "text": [
      "-------연락처 관리(메뉴)-------\n",
      "1.연락처 등록\n",
      "2.연락처 검색\n",
      "3.연락처 삭제\n",
      "4.모든 연락처 조회\n",
      "5.종료\n",
      "-------------------------------\n",
      "메뉴번호1\n",
      "등록할 이름과 번호를 입력해주세요\n",
      "이름윤동진\n",
      "번호01074764676\n",
      "윤동진님의 연락처 01074764676이 추가 되었습니다\n",
      "-------연락처 관리(메뉴)-------\n",
      "1.연락처 등록\n",
      "2.연락처 검색\n",
      "3.연락처 삭제\n",
      "4.모든 연락처 조회\n",
      "5.종료\n",
      "-------------------------------\n",
      "메뉴번호1\n",
      "등록할 이름과 번호를 입력해주세요\n",
      "이름이순신\n",
      "번호01011112222\n",
      "이순신님의 연락처 01011112222이 추가 되었습니다\n",
      "-------연락처 관리(메뉴)-------\n",
      "1.연락처 등록\n",
      "2.연락처 검색\n",
      "3.연락처 삭제\n",
      "4.모든 연락처 조회\n",
      "5.종료\n",
      "-------------------------------\n",
      "메뉴번호1\n",
      "등록할 이름과 번호를 입력해주세요\n",
      "이름홍길동\n",
      "번호01012345678\n",
      "홍길동님의 연락처 01012345678이 추가 되었습니다\n",
      "-------연락처 관리(메뉴)-------\n",
      "1.연락처 등록\n",
      "2.연락처 검색\n",
      "3.연락처 삭제\n",
      "4.모든 연락처 조회\n",
      "5.종료\n",
      "-------------------------------\n",
      "메뉴번호2\n",
      "연락처를 찾고 싶은 이름을 입력하세요홍길동\n",
      "홍길동님의 연락처는 01012345678입니다\n",
      "-------연락처 관리(메뉴)-------\n",
      "1.연락처 등록\n",
      "2.연락처 검색\n",
      "3.연락처 삭제\n",
      "4.모든 연락처 조회\n",
      "5.종료\n",
      "-------------------------------\n",
      "메뉴번호2\n",
      "연락처를 찾고 싶은 이름을 입력하세요윤동진\n",
      "윤동진님의 연락처는 01074764676입니다\n",
      "-------연락처 관리(메뉴)-------\n",
      "1.연락처 등록\n",
      "2.연락처 검색\n",
      "3.연락처 삭제\n",
      "4.모든 연락처 조회\n",
      "5.종료\n",
      "-------------------------------\n",
      "메뉴번호4\n",
      "모든 연락처들을 조회합니다.\n",
      "윤동진: 01074764676\n",
      "이순신: 01011112222\n",
      "홍길동: 01012345678\n",
      "-------연락처 관리(메뉴)-------\n",
      "1.연락처 등록\n",
      "2.연락처 검색\n",
      "3.연락처 삭제\n",
      "4.모든 연락처 조회\n",
      "5.종료\n",
      "-------------------------------\n",
      "메뉴번호3\n",
      "삭제할 이름과 번호를 입력해주세요\n",
      "삭제 할 이름이순신\n",
      "이순신님의 연락처 01012345678이 삭제 되었습니다\n",
      "-------연락처 관리(메뉴)-------\n",
      "1.연락처 등록\n",
      "2.연락처 검색\n",
      "3.연락처 삭제\n",
      "4.모든 연락처 조회\n",
      "5.종료\n",
      "-------------------------------\n",
      "메뉴번호4\n",
      "모든 연락처들을 조회합니다.\n",
      "윤동진: 01074764676\n",
      "홍길동: 01012345678\n",
      "-------연락처 관리(메뉴)-------\n",
      "1.연락처 등록\n",
      "2.연락처 검색\n",
      "3.연락처 삭제\n",
      "4.모든 연락처 조회\n",
      "5.종료\n",
      "-------------------------------\n"
     ]
    },
    {
     "ename": "KeyboardInterrupt",
     "evalue": "Interrupted by user",
     "output_type": "error",
     "traceback": [
      "\u001b[1;31m---------------------------------------------------------------------------\u001b[0m",
      "\u001b[1;31mKeyboardInterrupt\u001b[0m                         Traceback (most recent call last)",
      "Cell \u001b[1;32mIn[8], line 14\u001b[0m\n\u001b[0;32m     11\u001b[0m \u001b[38;5;28mprint\u001b[39m(\u001b[38;5;124m'\u001b[39m\u001b[38;5;124m-------------------------------\u001b[39m\u001b[38;5;124m'\u001b[39m)\n\u001b[0;32m     13\u001b[0m \u001b[38;5;66;03m#사용자에게 메뉴를 입력 받음\u001b[39;00m\n\u001b[1;32m---> 14\u001b[0m menu \u001b[38;5;241m=\u001b[39m \u001b[38;5;28minput\u001b[39m(\u001b[38;5;124m'\u001b[39m\u001b[38;5;124m메뉴번호\u001b[39m\u001b[38;5;124m'\u001b[39m)\n\u001b[0;32m     16\u001b[0m \u001b[38;5;28;01mif\u001b[39;00m menu \u001b[38;5;241m==\u001b[39m \u001b[38;5;124m'\u001b[39m\u001b[38;5;124m1\u001b[39m\u001b[38;5;124m'\u001b[39m :\n\u001b[0;32m     17\u001b[0m     \u001b[38;5;28mprint\u001b[39m(\u001b[38;5;124m\"\u001b[39m\u001b[38;5;124m등록할 이름과 번호를 입력해주세요\u001b[39m\u001b[38;5;124m\"\u001b[39m)\n",
      "File \u001b[1;32mC:\\ProgramData\\anaconda3\\Lib\\site-packages\\ipykernel\\kernelbase.py:1202\u001b[0m, in \u001b[0;36mKernel.raw_input\u001b[1;34m(self, prompt)\u001b[0m\n\u001b[0;32m   1200\u001b[0m     msg \u001b[38;5;241m=\u001b[39m \u001b[38;5;124m\"\u001b[39m\u001b[38;5;124mraw_input was called, but this frontend does not support input requests.\u001b[39m\u001b[38;5;124m\"\u001b[39m\n\u001b[0;32m   1201\u001b[0m     \u001b[38;5;28;01mraise\u001b[39;00m StdinNotImplementedError(msg)\n\u001b[1;32m-> 1202\u001b[0m \u001b[38;5;28;01mreturn\u001b[39;00m \u001b[38;5;28mself\u001b[39m\u001b[38;5;241m.\u001b[39m_input_request(\n\u001b[0;32m   1203\u001b[0m     \u001b[38;5;28mstr\u001b[39m(prompt),\n\u001b[0;32m   1204\u001b[0m     \u001b[38;5;28mself\u001b[39m\u001b[38;5;241m.\u001b[39m_parent_ident[\u001b[38;5;124m\"\u001b[39m\u001b[38;5;124mshell\u001b[39m\u001b[38;5;124m\"\u001b[39m],\n\u001b[0;32m   1205\u001b[0m     \u001b[38;5;28mself\u001b[39m\u001b[38;5;241m.\u001b[39mget_parent(\u001b[38;5;124m\"\u001b[39m\u001b[38;5;124mshell\u001b[39m\u001b[38;5;124m\"\u001b[39m),\n\u001b[0;32m   1206\u001b[0m     password\u001b[38;5;241m=\u001b[39m\u001b[38;5;28;01mFalse\u001b[39;00m,\n\u001b[0;32m   1207\u001b[0m )\n",
      "File \u001b[1;32mC:\\ProgramData\\anaconda3\\Lib\\site-packages\\ipykernel\\kernelbase.py:1245\u001b[0m, in \u001b[0;36mKernel._input_request\u001b[1;34m(self, prompt, ident, parent, password)\u001b[0m\n\u001b[0;32m   1242\u001b[0m \u001b[38;5;28;01mexcept\u001b[39;00m \u001b[38;5;167;01mKeyboardInterrupt\u001b[39;00m:\n\u001b[0;32m   1243\u001b[0m     \u001b[38;5;66;03m# re-raise KeyboardInterrupt, to truncate traceback\u001b[39;00m\n\u001b[0;32m   1244\u001b[0m     msg \u001b[38;5;241m=\u001b[39m \u001b[38;5;124m\"\u001b[39m\u001b[38;5;124mInterrupted by user\u001b[39m\u001b[38;5;124m\"\u001b[39m\n\u001b[1;32m-> 1245\u001b[0m     \u001b[38;5;28;01mraise\u001b[39;00m \u001b[38;5;167;01mKeyboardInterrupt\u001b[39;00m(msg) \u001b[38;5;28;01mfrom\u001b[39;00m \u001b[38;5;28;01mNone\u001b[39;00m\n\u001b[0;32m   1246\u001b[0m \u001b[38;5;28;01mexcept\u001b[39;00m \u001b[38;5;167;01mException\u001b[39;00m:\n\u001b[0;32m   1247\u001b[0m     \u001b[38;5;28mself\u001b[39m\u001b[38;5;241m.\u001b[39mlog\u001b[38;5;241m.\u001b[39mwarning(\u001b[38;5;124m\"\u001b[39m\u001b[38;5;124mInvalid Message:\u001b[39m\u001b[38;5;124m\"\u001b[39m, exc_info\u001b[38;5;241m=\u001b[39m\u001b[38;5;28;01mTrue\u001b[39;00m)\n",
      "\u001b[1;31mKeyboardInterrupt\u001b[0m: Interrupted by user"
     ]
    }
   ],
   "source": [
    "name_list = [] # 이름을 저장할 리스트\n",
    "phone_list = [] #전화번호를 저장할 리스트\n",
    "\n",
    "while True :\n",
    "    print('-------연락처 관리(메뉴)-------')\n",
    "    print('1.연락처 등록')\n",
    "    print('2.연락처 검색')\n",
    "    print('3.연락처 삭제')\n",
    "    print('4.모든 연락처 조회')\n",
    "    print('5.종료')\n",
    "    print('-------------------------------')\n",
    "    \n",
    "    #사용자에게 메뉴를 입력 받음\n",
    "    menu = input('메뉴번호')\n",
    "    \n",
    "    if menu == '1' :\n",
    "        print(\"등록할 이름과 번호를 입력해주세요\")\n",
    "        name = input(\"이름\")\n",
    "        phone = input('번호')\n",
    "        \n",
    "        name_list.append(name)\n",
    "        phone_list.append(phone)\n",
    "        \n",
    "        print(f'{name}님의 연락처 {phone}이 추가 되었습니다')\n",
    "        \n",
    "    \n",
    "    elif menu == '2' :\n",
    "        name = input(\"연락처를 찾고 싶은 이름을 입력하세요\")\n",
    "        if name in name_list:\n",
    "            \n",
    "            idx = name_list.index(name)\n",
    "            \n",
    "            print(f'{name}님의 연락처는 {phone_list[idx]}입니다')\n",
    "        \n",
    "        else :\n",
    "            print(\"해당 이름을 가진 연락처가 없습니다.\")\n",
    "\n",
    "    elif menu == '3' :\n",
    "        print(\"연락처에서 삭제할 이름을 입력해 주세요\")\n",
    "        name = input(\"삭제 할 이름\")\n",
    "\n",
    "        if name in name_list :\n",
    "\n",
    "            idx = name_list.index(name) # name이 있는 위치\n",
    "\n",
    "            name_list.remove(name)\n",
    "            del(phone_list[idx])\n",
    "            print(f'{name}님의 연락처가 삭제 되었습니다')\n",
    "        else:\n",
    "            print(\"없는 연락처 입니다.\")\n",
    "    \n",
    "    elif menu == '4' :\n",
    "        print(\"모든 연락처들을 조회합니다.\")\n",
    "        for i in range(0, len(name_list)) : #i는 list의 인덱스 번호\n",
    "            print(f'{name_list[i]}: {phone_list[i]}') #인덱스 번째 값 출력\n",
    "               \n",
    "    elif menu == '5' :\n",
    "        print(\"프로그램이 종료 됩니다.\")\n",
    "        break"
   ]
  }
 ],
 "metadata": {
  "kernelspec": {
   "display_name": "Python 3 (ipykernel)",
   "language": "python",
   "name": "python3"
  },
  "language_info": {
   "codemirror_mode": {
    "name": "ipython",
    "version": 3
   },
   "file_extension": ".py",
   "mimetype": "text/x-python",
   "name": "python",
   "nbconvert_exporter": "python",
   "pygments_lexer": "ipython3",
   "version": "3.11.5"
  }
 },
 "nbformat": 4,
 "nbformat_minor": 5
}
