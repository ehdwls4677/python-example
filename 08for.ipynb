{
 "cells": [
  {
   "cell_type": "markdown",
   "id": "79658668",
   "metadata": {},
   "source": [
    "#### 반복문 for\n",
    "\n",
    "> for 변수 in 나열 가능한 자료 :\n",
    "\n",
    "리스트 - [] 안에 값을 나열해 놓은 형식 입니다.\n"
   ]
  },
  {
   "cell_type": "code",
   "execution_count": 1,
   "id": "abbc6be8",
   "metadata": {},
   "outputs": [
    {
     "data": {
      "text/plain": [
       "[1, 2, 3]"
      ]
     },
     "execution_count": 1,
     "metadata": {},
     "output_type": "execute_result"
    }
   ],
   "source": [
    "[1 , 2 , 3]"
   ]
  },
  {
   "cell_type": "code",
   "execution_count": 2,
   "id": "f9d2f1cc",
   "metadata": {},
   "outputs": [
    {
     "name": "stdout",
     "output_type": "stream",
     "text": [
      "1 님 안녕하세요?\n",
      "2 님 안녕하세요?\n",
      "3 님 안녕하세요?\n"
     ]
    }
   ],
   "source": [
    "for i in [1,2,3] :\n",
    "    print(i, '님 안녕하세요?')"
   ]
  },
  {
   "cell_type": "code",
   "execution_count": 3,
   "id": "5c20f536",
   "metadata": {},
   "outputs": [
    {
     "name": "stdout",
     "output_type": "stream",
     "text": [
      "라스트라는 요소안에 값의 합: 55\n"
     ]
    }
   ],
   "source": [
    "sum1 = 0\n",
    "\n",
    "for i in [1,2,3,4,5,6,7,8,9,10] :\n",
    "    sum1 += i\n",
    "print('라스트라는 요소안에 값의 합:', sum1)"
   ]
  },
  {
   "cell_type": "markdown",
   "id": "d70224d6",
   "metadata": {},
   "source": [
    "#### range 함수\n",
    "\n",
    "- 리스트를 생성 할 때 일일히 하나씩 다 적는건 한계가 있습니다.\n",
    "- range(시작값 , 끝값 , 점핑값) 을 통해서 리스트를 좀 더 쉽게 생성 할 수 있습니다."
   ]
  },
  {
   "cell_type": "code",
   "execution_count": 4,
   "id": "9097b095",
   "metadata": {},
   "outputs": [
    {
     "ename": "NameError",
     "evalue": "name 'list2' is not defined",
     "output_type": "error",
     "traceback": [
      "\u001b[1;31m---------------------------------------------------------------------------\u001b[0m",
      "\u001b[1;31mNameError\u001b[0m                                 Traceback (most recent call last)",
      "Cell \u001b[1;32mIn[4], line 5\u001b[0m\n\u001b[0;32m      2\u001b[0m list1\n\u001b[0;32m      4\u001b[0m \u001b[38;5;28mlist\u001b[39m( \u001b[38;5;28mrange\u001b[39m(\u001b[38;5;241m2\u001b[39m, \u001b[38;5;241m11\u001b[39m, \u001b[38;5;241m2\u001b[39m)) \u001b[38;5;66;03m# 숫자 3가지를 넣었을 경우 3번째 숫자 목적은 해당 숫자 만큼 건너 뛴다는 의미\u001b[39;00m\n\u001b[1;32m----> 5\u001b[0m list2\n\u001b[0;32m      7\u001b[0m list3 \u001b[38;5;241m=\u001b[39m \u001b[38;5;28mlist\u001b[39m(\u001b[38;5;28mrange\u001b[39m(\u001b[38;5;241m1\u001b[39m,\u001b[38;5;241m11\u001b[39m,\u001b[38;5;241m1\u001b[39m))\n\u001b[0;32m      8\u001b[0m list3\n",
      "\u001b[1;31mNameError\u001b[0m: name 'list2' is not defined"
     ]
    }
   ],
   "source": [
    "list1 = list( range(1, 11) ) # 시작값은 포함 , 끝 값 미만 , 점핑값은 생략이 가능\n",
    "list1\n",
    "\n",
    "list( range(2, 11, 2)) # 숫자 3가지를 넣었을 경우 3번째 숫자 목적은 해당 숫자 만큼 건너 뛴다는 의미\n",
    "list2\n",
    "\n",
    "list3 = list(range(1,11,1))\n",
    "list3"
   ]
  },
  {
   "cell_type": "code",
   "execution_count": null,
   "id": "58808c1a",
   "metadata": {},
   "outputs": [],
   "source": [
    "for i in range(1, 10) : # 1 ~ 10 \n",
    "    print(i, end=' ')"
   ]
  },
  {
   "cell_type": "code",
   "execution_count": null,
   "id": "17d4f2d5",
   "metadata": {},
   "outputs": [],
   "source": [
    "i = list (range(1,11))\n",
    "print(i)"
   ]
  },
  {
   "cell_type": "code",
   "execution_count": null,
   "id": "0b35d8d0",
   "metadata": {},
   "outputs": [],
   "source": [
    "# 7 ~ 200까지 정수 중에서 점핑값을 7로 해서 7의 배수를 가로로 출력\n",
    "# 1 ~ 9876까지 정수 중에서 13의 배수의 개수를 구하세요\n",
    "# 구구단 단수를 입력 받고 for 문을 이용 해서 구구단을 출력"
   ]
  },
  {
   "cell_type": "code",
   "execution_count": 134,
   "id": "11ffec31",
   "metadata": {},
   "outputs": [
    {
     "name": "stdout",
     "output_type": "stream",
     "text": [
      "7 14 21 28 35 42 49 56 63 70 77 84 91 98 105 112 119 126 133 140 147 154 161 168 175 182 189 196 "
     ]
    }
   ],
   "source": [
    "for i in range (7,201,7) :\n",
    "    print(i , end= ' ')"
   ]
  },
  {
   "cell_type": "code",
   "execution_count": 135,
   "id": "5e1dde59",
   "metadata": {
    "scrolled": true
   },
   "outputs": [
    {
     "name": "stdout",
     "output_type": "stream",
     "text": [
      "759\n"
     ]
    }
   ],
   "source": [
    "cnt = 0\n",
    "for i in range (13 , 9877 , 13) :\n",
    "    if i % 13 == 0:\n",
    "        cnt += 1\n",
    "print(cnt)"
   ]
  },
  {
   "cell_type": "code",
   "execution_count": null,
   "id": "e22504dc",
   "metadata": {},
   "outputs": [],
   "source": [
    "cnt = 0\n",
    "for i in range(1 , 9877) :\n",
    "    if i % 13 == 0 :\n",
    "        cnt += 1\n",
    "print(cnt)"
   ]
  },
  {
   "cell_type": "code",
   "execution_count": 136,
   "id": "12f73600",
   "metadata": {},
   "outputs": [
    {
     "name": "stdout",
     "output_type": "stream",
     "text": [
      "숫자를 입력하세요2\n",
      "2 x 1 = 2\n",
      "2 x 2 = 4\n",
      "2 x 3 = 6\n",
      "2 x 4 = 8\n",
      "2 x 5 = 10\n",
      "2 x 6 = 12\n",
      "2 x 7 = 14\n",
      "2 x 8 = 16\n",
      "2 x 9 = 18\n"
     ]
    }
   ],
   "source": [
    "x = int(input ('숫자를 입력하세요'))\n",
    "\n",
    "for i in range (1,10) :\n",
    "    y = x * i\n",
    "    print(f'{x} x {i} = {y}')"
   ]
  },
  {
   "cell_type": "markdown",
   "id": "bad13800",
   "metadata": {},
   "source": [
    "### 중첩 반복\n",
    "- 외부 반복문 안에 내부에서 반복문이 존재하는 형태"
   ]
  },
  {
   "cell_type": "code",
   "execution_count": 5,
   "id": "52343eb0",
   "metadata": {},
   "outputs": [
    {
     "name": "stdout",
     "output_type": "stream",
     "text": [
      "1 - 1\n",
      "1 - 2\n",
      "1 - 3\n",
      "1 - 4\n",
      "1 - 5\n",
      "2 - 1\n",
      "2 - 2\n",
      "2 - 3\n",
      "2 - 4\n",
      "2 - 5\n",
      "3 - 1\n",
      "3 - 2\n",
      "3 - 3\n",
      "3 - 4\n",
      "3 - 5\n",
      "4 - 1\n",
      "4 - 2\n",
      "4 - 3\n",
      "4 - 4\n",
      "4 - 5\n",
      "5 - 1\n",
      "5 - 2\n",
      "5 - 3\n",
      "5 - 4\n",
      "5 - 5\n",
      "6 - 1\n",
      "6 - 2\n",
      "6 - 3\n",
      "6 - 4\n",
      "6 - 5\n",
      "7 - 1\n",
      "7 - 2\n",
      "7 - 3\n",
      "7 - 4\n",
      "7 - 5\n",
      "8 - 1\n",
      "8 - 2\n",
      "8 - 3\n",
      "8 - 4\n",
      "8 - 5\n",
      "9 - 1\n",
      "9 - 2\n",
      "9 - 3\n",
      "9 - 4\n",
      "9 - 5\n"
     ]
    }
   ],
   "source": [
    "for i in range(1,10) : # 1 ~ 9\n",
    "    \n",
    "    for j in range(1,6) : # 1 ~ 5 \n",
    "        print(i , '-' , j)"
   ]
  },
  {
   "cell_type": "markdown",
   "id": "8fdd567c",
   "metadata": {},
   "source": [
    "### 실습\n",
    "구구단 2-9단까지 결과를 전부 출력"
   ]
  },
  {
   "cell_type": "code",
   "execution_count": 56,
   "id": "09cc15fb",
   "metadata": {},
   "outputs": [
    {
     "name": "stdout",
     "output_type": "stream",
     "text": [
      "2단\n",
      "2 x 1 = 2\n",
      "2 x 2 = 4\n",
      "2 x 3 = 6\n",
      "2 x 4 = 8\n",
      "2 x 5 = 10\n",
      "2 x 6 = 12\n",
      "2 x 7 = 14\n",
      "2 x 8 = 16\n",
      "2 x 9 = 18\n",
      "3단\n",
      "3 x 1 = 3\n",
      "3 x 2 = 6\n",
      "3 x 3 = 9\n",
      "3 x 4 = 12\n",
      "3 x 5 = 15\n",
      "3 x 6 = 18\n",
      "3 x 7 = 21\n",
      "3 x 8 = 24\n",
      "3 x 9 = 27\n",
      "4단\n",
      "4 x 1 = 4\n",
      "4 x 2 = 8\n",
      "4 x 3 = 12\n",
      "4 x 4 = 16\n",
      "4 x 5 = 20\n",
      "4 x 6 = 24\n",
      "4 x 7 = 28\n",
      "4 x 8 = 32\n",
      "4 x 9 = 36\n",
      "5단\n",
      "5 x 1 = 5\n",
      "5 x 2 = 10\n",
      "5 x 3 = 15\n",
      "5 x 4 = 20\n",
      "5 x 5 = 25\n",
      "5 x 6 = 30\n",
      "5 x 7 = 35\n",
      "5 x 8 = 40\n",
      "5 x 9 = 45\n",
      "6단\n",
      "6 x 1 = 6\n",
      "6 x 2 = 12\n",
      "6 x 3 = 18\n",
      "6 x 4 = 24\n",
      "6 x 5 = 30\n",
      "6 x 6 = 36\n",
      "6 x 7 = 42\n",
      "6 x 8 = 48\n",
      "6 x 9 = 54\n",
      "7단\n",
      "7 x 1 = 7\n",
      "7 x 2 = 14\n",
      "7 x 3 = 21\n",
      "7 x 4 = 28\n",
      "7 x 5 = 35\n",
      "7 x 6 = 42\n",
      "7 x 7 = 49\n",
      "7 x 8 = 56\n",
      "7 x 9 = 63\n",
      "8단\n",
      "8 x 1 = 8\n",
      "8 x 2 = 16\n",
      "8 x 3 = 24\n",
      "8 x 4 = 32\n",
      "8 x 5 = 40\n",
      "8 x 6 = 48\n",
      "8 x 7 = 56\n",
      "8 x 8 = 64\n",
      "8 x 9 = 72\n",
      "9단\n",
      "9 x 1 = 9\n",
      "9 x 2 = 18\n",
      "9 x 3 = 27\n",
      "9 x 4 = 36\n",
      "9 x 5 = 45\n",
      "9 x 6 = 54\n",
      "9 x 7 = 63\n",
      "9 x 8 = 72\n",
      "9 x 9 = 81\n"
     ]
    }
   ],
   "source": [
    "for a in range (2 , 10) :\n",
    "    for b in range (1 , 10) :\n",
    "        c = a * b\n",
    "        if b == 1 :\n",
    "            print(f'{a}단')\n",
    "\n",
    "        print(f'{a} x {b} = {c}')\n"
   ]
  },
  {
   "cell_type": "code",
   "execution_count": 61,
   "id": "45cf552b",
   "metadata": {},
   "outputs": [
    {
     "name": "stdout",
     "output_type": "stream",
     "text": [
      "1 1\n",
      "2 1\n",
      "2 2\n",
      "3 1\n",
      "3 2\n",
      "3 3\n",
      "4 1\n",
      "4 2\n",
      "4 3\n",
      "4 4\n",
      "5 1\n",
      "5 2\n",
      "5 3\n",
      "5 4\n",
      "5 5\n"
     ]
    }
   ],
   "source": [
    "for i in range(1,6) : # 1 ~ 5 # 행\n",
    "    \n",
    "    for j in range (1,i+1): # 1 ~ 행에 수 만큼 회전 # 끝 수는 미만이기 때문에 행에 수 만큼 돌기 위해선 +1\n",
    "    \n",
    "        print(i,j) "
   ]
  },
  {
   "cell_type": "code",
   "execution_count": 65,
   "id": "b1eccbc8",
   "metadata": {},
   "outputs": [
    {
     "name": "stdout",
     "output_type": "stream",
     "text": [
      "*\n",
      "**\n",
      "***\n",
      "****\n",
      "*****\n"
     ]
    }
   ],
   "source": [
    "star = 6\n",
    "for i in range(1 , star) : # 1 ~ 5 # 행\n",
    "    \n",
    "    for j in range (1 , i+1): # 1 ~ 행에 수 만큼 회전 # 끝 수는 미만이기 때문에 행에 수 만큼 돌기 위해선 +1\n",
    "    \n",
    "        print('*' , end = '')\n",
    "    print()"
   ]
  },
  {
   "cell_type": "code",
   "execution_count": 69,
   "id": "e421ea94",
   "metadata": {},
   "outputs": [
    {
     "name": "stdout",
     "output_type": "stream",
     "text": [
      "*****\n",
      "****\n",
      "***\n",
      "**\n",
      "*\n"
     ]
    }
   ],
   "source": [
    "for i in range(1,6) :\n",
    "    for j in range (1 ,star -i +1):\n",
    "        print('*' , end= '')\n",
    "    print()"
   ]
  },
  {
   "cell_type": "code",
   "execution_count": null,
   "id": "ea55e254",
   "metadata": {},
   "outputs": [],
   "source": [
    "## 내부반복문을 공백을 출력하는 반복문 1개 별을 출력하는 반복문 1개"
   ]
  },
  {
   "cell_type": "code",
   "execution_count": null,
   "id": "fa8d219a",
   "metadata": {},
   "outputs": [],
   "source": [
    "#공백\n",
    "1 4\n",
    "2 3 \n",
    "3 2\n",
    "4 1\n",
    "5 0"
   ]
  },
  {
   "cell_type": "code",
   "execution_count": 133,
   "id": "94383413",
   "metadata": {},
   "outputs": [
    {
     "name": "stdout",
     "output_type": "stream",
     "text": [
      "    *\n",
      "   ***\n",
      "  *****\n",
      " *******\n",
      "*********\n"
     ]
    }
   ],
   "source": [
    "star = 6\n",
    "for i in range (1, star) :\n",
    "    for j in range(1,star - i): # 공백을 출력\n",
    "        print(' ', end ='')\n",
    "    for j in range(1,i * 2): # 별을 출력\n",
    "        print('*' , end = '')\n",
    "    print()"
   ]
  }
 ],
 "metadata": {
  "kernelspec": {
   "display_name": "Python 3 (ipykernel)",
   "language": "python",
   "name": "python3"
  },
  "language_info": {
   "codemirror_mode": {
    "name": "ipython",
    "version": 3
   },
   "file_extension": ".py",
   "mimetype": "text/x-python",
   "name": "python",
   "nbconvert_exporter": "python",
   "pygments_lexer": "ipython3",
   "version": "3.11.5"
  }
 },
 "nbformat": 4,
 "nbformat_minor": 5
}
