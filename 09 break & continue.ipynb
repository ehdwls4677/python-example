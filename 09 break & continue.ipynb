{
 "cells": [
  {
   "cell_type": "markdown",
   "id": "a95e667d",
   "metadata": {},
   "source": [
    "### 탈출문 break , continue"
   ]
  },
  {
   "cell_type": "code",
   "execution_count": 4,
   "id": "aec9e9e3",
   "metadata": {},
   "outputs": [
    {
     "name": "stdout",
     "output_type": "stream",
     "text": [
      "1\n",
      "2\n",
      "3\n",
      "4\n",
      "5\n",
      "프로그램 정상종료\n"
     ]
    }
   ],
   "source": [
    "for i in range(1,11) :\n",
    "    \n",
    "    print(i)\n",
    "    \n",
    "    if i == 5:\n",
    "        break\n",
    "\n",
    "print('프로그램 정상종료')"
   ]
  },
  {
   "cell_type": "code",
   "execution_count": 5,
   "id": "b0b8a747",
   "metadata": {},
   "outputs": [
    {
     "name": "stdout",
     "output_type": "stream",
     "text": [
      "1\n",
      "2\n",
      "3\n",
      "4\n",
      "프로그램 정상종료\n"
     ]
    }
   ],
   "source": [
    "for i in range(1,11) :\n",
    "    \n",
    "    if i == 5:\n",
    "        break\n",
    "        \n",
    "    print(i)\n",
    "    \n",
    "    \n",
    "\n",
    "print('프로그램 정상종료')"
   ]
  },
  {
   "cell_type": "code",
   "execution_count": 6,
   "id": "ca44d6f7",
   "metadata": {},
   "outputs": [
    {
     "name": "stdout",
     "output_type": "stream",
     "text": [
      "1\n",
      "2\n",
      "3\n",
      "4\n",
      "6\n",
      "7\n",
      "8\n",
      "9\n",
      "10\n"
     ]
    }
   ],
   "source": [
    "for i in range(1,11) :\n",
    "    if i == 5:\n",
    "        \n",
    "        continue # 반복문의 다음으로 이동 따라서 5가 출력 안 됨\n",
    "        \n",
    "    print(i)"
   ]
  },
  {
   "cell_type": "markdown",
   "id": "53de8218",
   "metadata": {},
   "source": [
    "#### 무한반복문\n",
    "\n",
    "반복의 횟수를 정확히 모를 때 사용 함  \n",
    "대신 , 특정 조건에서 탈출문과 함께 사용됩니다."
   ]
  },
  {
   "cell_type": "code",
   "execution_count": 8,
   "id": "cfe9d07f",
   "metadata": {
    "scrolled": true
   },
   "outputs": [
    {
     "name": "stdout",
     "output_type": "stream",
     "text": [
      "먹고 싶은 과일>사과\n",
      "사과\n",
      "먹고 싶은 과일>딸기\n",
      "딸기\n",
      "먹고 싶은 과일>그만\n",
      "그만을 입력해서 그만둡니다\n"
     ]
    }
   ],
   "source": [
    "# 먹고 싶은 과일 입력 받기 , 그만이라는 단어가 들어오면 중단\n",
    "\n",
    "while True :\n",
    "    \n",
    "    fruit = input('먹고 싶은 과일>')\n",
    "    \n",
    "    if fruit == '그만' :\n",
    "        \n",
    "        print('그만을 입력해서 그만둡니다')\n",
    "        \n",
    "        break\n",
    "    \n",
    "    print(fruit)"
   ]
  },
  {
   "cell_type": "code",
   "execution_count": 10,
   "id": "c5c1a55f",
   "metadata": {},
   "outputs": [],
   "source": [
    "# pass 키워드\n",
    "# 제어문 사용시에 내용을 아무것도 적지 않으면 에러가 나는데 , pass 키워드를 사용 하면 에러가 발생 x\n",
    "if True :\n",
    "    pass\n",
    "    "
   ]
  },
  {
   "cell_type": "markdown",
   "id": "02643b68",
   "metadata": {},
   "source": [
    "#### 실습"
   ]
  },
  {
   "cell_type": "code",
   "execution_count": 21,
   "id": "1e4eafea",
   "metadata": {},
   "outputs": [
    {
     "name": "stdout",
     "output_type": "stream",
     "text": [
      "문제 38 x 12 = ?\n",
      "정답>456\n",
      "정답 입니다. 1번만에 맞추셨네요?\n"
     ]
    }
   ],
   "source": [
    "print('문제 38 x 12 = ?')\n",
    "cnt = 0\n",
    "while True :\n",
    "    answer = int(input('정답>'))\n",
    "    cnt += 1\n",
    "    if answer != 456 :\n",
    "        print(\"틀렸습니다.\")\n",
    "    if answer == 456 :\n",
    "        break\n",
    "print(f\"정답 입니다. {cnt}번만에 맞추셨네요?\")\n",
    "    "
   ]
  },
  {
   "cell_type": "code",
   "execution_count": 23,
   "id": "2cd631f7",
   "metadata": {},
   "outputs": [
    {
     "name": "stdout",
     "output_type": "stream",
     "text": [
      "문제 38 x 12 = ?\n",
      "정답>2\n",
      "틀렸습니다.\n",
      "정답>2\n",
      "틀렸습니다.\n",
      "정답>456\n",
      "정답입니다.\n",
      "정답 입니다. 3번만에 맞추셨네요?\n"
     ]
    }
   ],
   "source": [
    "print('문제 38 x 12 = ?')\n",
    "cnt = 0\n",
    "while True :\n",
    "    answer = int(input(\"정답>\"))\n",
    "    cnt += 1 # 횟수 체크\n",
    "    # 정답이면 탈출\n",
    "    if answer == 456:\n",
    "        print('정답입니다.')\n",
    "        break\n",
    "    else :\n",
    "        print('틀렸습니다.')\n",
    "print(f'정답 입니다. {cnt}번만에 맞추셨네요?')"
   ]
  },
  {
   "cell_type": "code",
   "execution_count": null,
   "id": "fea094bc",
   "metadata": {},
   "outputs": [],
   "source": []
  },
  {
   "cell_type": "code",
   "execution_count": null,
   "id": "5b78d3c1",
   "metadata": {},
   "outputs": [],
   "source": []
  }
 ],
 "metadata": {
  "kernelspec": {
   "display_name": "Python 3 (ipykernel)",
   "language": "python",
   "name": "python3"
  },
  "language_info": {
   "codemirror_mode": {
    "name": "ipython",
    "version": 3
   },
   "file_extension": ".py",
   "mimetype": "text/x-python",
   "name": "python",
   "nbconvert_exporter": "python",
   "pygments_lexer": "ipython3",
   "version": "3.11.5"
  }
 },
 "nbformat": 4,
 "nbformat_minor": 5
}
