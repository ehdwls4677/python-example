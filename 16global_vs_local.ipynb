{
 "cells": [
  {
   "cell_type": "markdown",
   "id": "2b4b90f8",
   "metadata": {},
   "source": [
    "#### 전역변수 vs 지역변수\n",
    "\n",
    "전역변수 - 함수 밖에서 만들어진 변수 (어디서든 사용 가능)  \n",
    "지역변수 - 함수 안에서 만들어진 변수 (함수 안 에서만 사용 가능)"
   ]
  },
  {
   "cell_type": "code",
   "execution_count": 2,
   "id": "da3affa5",
   "metadata": {},
   "outputs": [],
   "source": [
    "name = '홍길동' # 전역 변수\n",
    "def func1() :\n",
    "    \n",
    "    age = 10 # 지역 변수\n",
    "    \n",
    "    print(name)"
   ]
  },
  {
   "cell_type": "code",
   "execution_count": 1,
   "id": "6cafe177",
   "metadata": {},
   "outputs": [
    {
     "ename": "NameError",
     "evalue": "name 'func1' is not defined",
     "output_type": "error",
     "traceback": [
      "\u001b[1;31m---------------------------------------------------------------------------\u001b[0m",
      "\u001b[1;31mNameError\u001b[0m                                 Traceback (most recent call last)",
      "Cell \u001b[1;32mIn[1], line 1\u001b[0m\n\u001b[1;32m----> 1\u001b[0m func1()\n",
      "\u001b[1;31mNameError\u001b[0m: name 'func1' is not defined"
     ]
    }
   ],
   "source": [
    "func1()\n",
    "# print(age) # err - 함수 밖에서 지역변수에는 접근이 안 됨"
   ]
  },
  {
   "cell_type": "code",
   "execution_count": 14,
   "id": "2e215d97",
   "metadata": {},
   "outputs": [],
   "source": [
    "# 전역변수와 동일한 이름의 지역변수가 사용 되는 경우\n",
    "\n",
    "a = '전역 변수'\n",
    "\n",
    "def func3() :\n",
    "    global a # 동일한 이름의 지역변수가 있을 때 , 전역변수를 참조 해야한다면 , 변수 사용전에 global 키워드를 줄 수 있음 /python 에만 있음 \n",
    "    print('before',a)\n",
    "    a = '지역 변수'\n",
    "    print('after', a)"
   ]
  },
  {
   "cell_type": "code",
   "execution_count": 2,
   "id": "7d636e1e",
   "metadata": {},
   "outputs": [
    {
     "ename": "NameError",
     "evalue": "name 'func3' is not defined",
     "output_type": "error",
     "traceback": [
      "\u001b[1;31m---------------------------------------------------------------------------\u001b[0m",
      "\u001b[1;31mNameError\u001b[0m                                 Traceback (most recent call last)",
      "Cell \u001b[1;32mIn[2], line 1\u001b[0m\n\u001b[1;32m----> 1\u001b[0m func3()\n",
      "\u001b[1;31mNameError\u001b[0m: name 'func3' is not defined"
     ]
    }
   ],
   "source": [
    "func3()"
   ]
  },
  {
   "cell_type": "markdown",
   "id": "4873ace6",
   "metadata": {},
   "source": [
    "#### 함수의 기본값 매개변수\n",
    "\n",
    "-파이썬에서는 매개변수의 기본값을 지정해서 , 자주 바뀌지 않는 매개값은 기본값으로 처리가 가능합니다."
   ]
  },
  {
   "cell_type": "code",
   "execution_count": 18,
   "id": "d40b57d1",
   "metadata": {},
   "outputs": [],
   "source": [
    "# 시작 , 끝 , 스탭값 , 매개변수 3개를 받아서 합계\n",
    "def calc(start , end , step=1):\n",
    "    \n",
    "    sum_ = 0\n",
    "    for i in range(start , end+1 , step) :\n",
    "        sum_ += i\n",
    "        \n",
    "    return sum_"
   ]
  },
  {
   "cell_type": "code",
   "execution_count": 20,
   "id": "adfbdad6",
   "metadata": {},
   "outputs": [
    {
     "data": {
      "text/plain": [
       "9"
      ]
     },
     "execution_count": 20,
     "metadata": {},
     "output_type": "execute_result"
    }
   ],
   "source": [
    "# calc(1,5,1) # 1+2+3+4+5\n",
    "calc(1,5,1) # 세번째 매개 변수는 기본값이 적용\n",
    "calc(1,5,2) # 1+3+5"
   ]
  },
  {
   "cell_type": "code",
   "execution_count": 24,
   "id": "87fa9c6a",
   "metadata": {},
   "outputs": [],
   "source": [
    "# 기본값을 가지는 함수 \n",
    "# 기본값을 가지는 매개변수는 일반매개변수보다 뒤쪽에 선언이 들어가야 합니다.\n",
    "\n",
    "def calc2(start, end =10 , step=1) :\n",
    "    \n",
    "    sum_=0\n",
    "    \n",
    "    for i in range(start , end+1, step) :\n",
    "        sum_ += i\n",
    "    \n",
    "    return  sum_\n",
    "    "
   ]
  },
  {
   "cell_type": "code",
   "execution_count": 26,
   "id": "13a3c4c6",
   "metadata": {},
   "outputs": [
    {
     "data": {
      "text/plain": [
       "210"
      ]
     },
     "execution_count": 26,
     "metadata": {},
     "output_type": "execute_result"
    }
   ],
   "source": [
    "calc2(1)\n",
    "calc2(1,20)"
   ]
  },
  {
   "cell_type": "code",
   "execution_count": null,
   "id": "a9641c59",
   "metadata": {},
   "outputs": [],
   "source": [
    "def aaa(a,b,c) :\n",
    "    pass\n",
    "aaa(1,2,3)"
   ]
  },
  {
   "cell_type": "markdown",
   "id": "54d079d6",
   "metadata": {},
   "source": [
    "#### 키워드 인수 (매개변수)\n",
    "- 매개변수의 개수가 많아지면 , 순서를 파악하는데 위치를 헷갈릴 가능성이 있습니다.\n",
    "\n",
    "ex)\n",
    "def sign_user(name , id , pw , address , phone , gender , email , nickname) :\n",
    "\n",
    "-파이썬에서는 순서와 무관하게 직접 지정해서 값을 전달하는 방법을 제공합니다."
   ]
  },
  {
   "cell_type": "code",
   "execution_count": 29,
   "id": "3207c10e",
   "metadata": {},
   "outputs": [],
   "source": [
    "def calc3(start , end ,step) :\n",
    "    \n",
    "    sum_ = 0\n",
    "    for i in range(start , end +1 , step) :\n",
    "        sum_+=i\n",
    "    return sum_"
   ]
  },
  {
   "cell_type": "code",
   "execution_count": 33,
   "id": "05d236a7",
   "metadata": {},
   "outputs": [
    {
     "data": {
      "text/plain": [
       "55"
      ]
     },
     "execution_count": 33,
     "metadata": {},
     "output_type": "execute_result"
    }
   ],
   "source": [
    "calc3(step = 1 , end = 10 , start = 1 )\n",
    "\n",
    "calc3(end = 10 , start = 1 , step = 1)\n",
    "\n",
    "calc3(start = 1 , step = 1 , end = 10)"
   ]
  },
  {
   "cell_type": "code",
   "execution_count": 5,
   "id": "c684cc56",
   "metadata": {},
   "outputs": [],
   "source": [
    "# 키워드 인수와 기본값 매개변수를 같이 사용할 수 있습니다\n",
    "\n",
    "def calc4(a,b,c=10) :\n",
    "    return a + b + c"
   ]
  },
  {
   "cell_type": "code",
   "execution_count": 6,
   "id": "7118a4f2",
   "metadata": {},
   "outputs": [
    {
     "data": {
      "text/plain": [
       "13"
      ]
     },
     "execution_count": 6,
     "metadata": {},
     "output_type": "execute_result"
    }
   ],
   "source": [
    "calc4(a = 1 , b = 2 , c = 10)\n",
    "calc4(a = 1 , b = 2)\n",
    "calc4(a = 1, b = 2)\n",
    "# calc4(a= 1 , 2, 3) #err = 기본 매개변수가 , 키워드 인수보다 앞에 나와야 합니다."
   ]
  },
  {
   "cell_type": "code",
   "execution_count": 44,
   "id": "a73e06bb",
   "metadata": {},
   "outputs": [
    {
     "name": "stdout",
     "output_type": "stream",
     "text": [
      "홍길동님??안녕하세요^^!"
     ]
    }
   ],
   "source": [
    "#print() 가 대표적인 기본값 매개변수 , 키워드 인수의 예시\n",
    "print('홍길동님','안녕하세요',sep = '??' , end='^^!')"
   ]
  },
  {
   "cell_type": "code",
   "execution_count": 46,
   "id": "14daa7b6",
   "metadata": {},
   "outputs": [
    {
     "name": "stdout",
     "output_type": "stream",
     "text": [
      "Python 3.11.5\n"
     ]
    }
   ],
   "source": [
    "!python --version"
   ]
  },
  {
   "cell_type": "code",
   "execution_count": null,
   "id": "76a2d70c",
   "metadata": {},
   "outputs": [],
   "source": []
  },
  {
   "cell_type": "code",
   "execution_count": null,
   "id": "eb400fa8",
   "metadata": {},
   "outputs": [],
   "source": []
  },
  {
   "cell_type": "code",
   "execution_count": null,
   "id": "3288c151",
   "metadata": {},
   "outputs": [],
   "source": []
  },
  {
   "cell_type": "code",
   "execution_count": null,
   "id": "4b94eb4d",
   "metadata": {},
   "outputs": [],
   "source": []
  },
  {
   "cell_type": "code",
   "execution_count": null,
   "id": "d05f0076",
   "metadata": {},
   "outputs": [],
   "source": []
  },
  {
   "cell_type": "code",
   "execution_count": null,
   "id": "50c7e43f",
   "metadata": {},
   "outputs": [],
   "source": []
  },
  {
   "cell_type": "code",
   "execution_count": null,
   "id": "9a21ee6c",
   "metadata": {},
   "outputs": [],
   "source": []
  },
  {
   "cell_type": "code",
   "execution_count": null,
   "id": "569c8fc0",
   "metadata": {},
   "outputs": [],
   "source": []
  }
 ],
 "metadata": {
  "kernelspec": {
   "display_name": "Python 3 (ipykernel)",
   "language": "python",
   "name": "python3"
  },
  "language_info": {
   "codemirror_mode": {
    "name": "ipython",
    "version": 3
   },
   "file_extension": ".py",
   "mimetype": "text/x-python",
   "name": "python",
   "nbconvert_exporter": "python",
   "pygments_lexer": "ipython3",
   "version": "3.11.5"
  }
 },
 "nbformat": 4,
 "nbformat_minor": 5
}
