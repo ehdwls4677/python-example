{
 "cells": [
  {
   "cell_type": "markdown",
   "id": "fbab1e5a",
   "metadata": {},
   "source": [
    "### 마크다운 영역은 작성할 내용을 정리하는 란입니다.\n",
    "\n",
    "단축키\n",
    "- a : 위에 셀\n",
    "- b : 아래에 셀\n",
    "- dd: 셀 삭제하기\n",
    "- m / y : 코드 / 마크 다운\n",
    "- ctrl + enter : 해당 코드 실행\n",
    "- shift + enter : 해당 코드 실행 후 다음으로 이동\n",
    "- ctrl + a : 셀 전체 선택\n",
    "- ctrl + z : 되 돌리기"
   ]
  },
  {
   "cell_type": "code",
   "execution_count": 1,
   "id": "7876dbb4",
   "metadata": {},
   "outputs": [
    {
     "name": "stdout",
     "output_type": "stream",
     "text": [
      "hello world\n"
     ]
    }
   ],
   "source": [
    "print(\"hello world\")"
   ]
  },
  {
   "cell_type": "code",
   "execution_count": 2,
   "id": "882caf36",
   "metadata": {},
   "outputs": [
    {
     "name": "stdout",
     "output_type": "stream",
     "text": [
      "아 어렵다 어려워 ㅠㅠ\n"
     ]
    }
   ],
   "source": [
    "print(\"아 어렵다 어려워 ㅠㅠ\")"
   ]
  },
  {
   "cell_type": "markdown",
   "id": "3ee4e2cc",
   "metadata": {},
   "source": [
    "### 주석문이란?\n",
    "\n",
    "- 주석문은 프로그램 실행에 전혀 영향을 주지 않는 선언문\n",
    "- 첨언하는 용도로 사용합니다."
   ]
  },
  {
   "cell_type": "code",
   "execution_count": 6,
   "id": "372efa7a",
   "metadata": {},
   "outputs": [],
   "source": [
    "# print(\"주석문이란\") # ctrl + / 가 빠른 주석 단축키"
   ]
  },
  {
   "cell_type": "code",
   "execution_count": 7,
   "id": "d2e983e4",
   "metadata": {},
   "outputs": [
    {
     "data": {
      "text/plain": [
       "2"
      ]
     },
     "execution_count": 7,
     "metadata": {},
     "output_type": "execute_result"
    }
   ],
   "source": [
    "1+1\n",
    "'hello'\n",
    "10\n",
    "#주피터 노트북은 print 문장이 없어도 항상 맨 마지막 문장을 실행"
   ]
  },
  {
   "cell_type": "code",
   "execution_count": 15,
   "id": "7306abf6",
   "metadata": {},
   "outputs": [
    {
     "name": "stdout",
     "output_type": "stream",
     "text": [
      "hello\n",
      "wolrd\n"
     ]
    }
   ],
   "source": [
    "# 파이썬은 문장 끝에서 세미클론을 붙이지 않아도 됩니다.\n",
    "print(\"hello\");\n",
    "print(\"wolrd\");\n",
    "# 파이썬에서 들여쓰기는 허용 되지 않습니다.\n",
    "#   print(\"아 이거 이상하네\")\n",
    "# 모든 프로그램 언어는 대소문자를 정확히 구분합니다.\n",
    "# Print(\"아 이거도 이상하네\")"
   ]
  },
  {
   "cell_type": "code",
   "execution_count": null,
   "id": "bf3ab380",
   "metadata": {},
   "outputs": [],
   "source": []
  }
 ],
 "metadata": {
  "kernelspec": {
   "display_name": "Python 3 (ipykernel)",
   "language": "python",
   "name": "python3"
  },
  "language_info": {
   "codemirror_mode": {
    "name": "ipython",
    "version": 3
   },
   "file_extension": ".py",
   "mimetype": "text/x-python",
   "name": "python",
   "nbconvert_exporter": "python",
   "pygments_lexer": "ipython3",
   "version": "3.11.5"
  }
 },
 "nbformat": 4,
 "nbformat_minor": 5
}
