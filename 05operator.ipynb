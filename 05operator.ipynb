{
 "cells": [
  {
   "cell_type": "markdown",
   "id": "4bbc93a7",
   "metadata": {},
   "source": [
    "#### 연산자"
   ]
  },
  {
   "cell_type": "code",
   "execution_count": 1,
   "id": "63125e80",
   "metadata": {
    "scrolled": true
   },
   "outputs": [
    {
     "name": "stdout",
     "output_type": "stream",
     "text": [
      "7\n",
      "-1\n",
      "2.5\n",
      "2\n",
      "1\n",
      "8\n"
     ]
    }
   ],
   "source": [
    "print (3 + 4)\n",
    "print (3 - 4)\n",
    "print (10 / 4) # 실수형 몫\n",
    "print (10 // 5) # 정수형 몫\n",
    "print (10 % 3) # 나머지\n",
    "print (2 ** 3) # 파이썬 제공 - 제곱"
   ]
  },
  {
   "cell_type": "markdown",
   "id": "21de89e1",
   "metadata": {},
   "source": [
    "#### 대입연산자\n",
    "#### += , -= , *= , /= , //= , %= , **="
   ]
  },
  {
   "cell_type": "code",
   "execution_count": 2,
   "id": "cf220bc2",
   "metadata": {},
   "outputs": [
    {
     "name": "stdout",
     "output_type": "stream",
     "text": [
      "8\n",
      "5\n",
      "1\n",
      "10\n",
      "1\n"
     ]
    }
   ],
   "source": [
    "a = 5\n",
    "\n",
    "a += 3 # a = a + 3\n",
    "print(a)\n",
    "\n",
    "a -= 3 # a = a - 3\n",
    "print(a)\n",
    "\n",
    "a //= 3 # a = a // 3\n",
    "print(a)\n",
    "\n",
    "a *= 10  # a = a * 10\n",
    "print(a)\n",
    "\n",
    "a %= 3 # a = a % 3\n",
    "print(a)"
   ]
  },
  {
   "cell_type": "code",
   "execution_count": 3,
   "id": "164bf4c7",
   "metadata": {},
   "outputs": [
    {
     "name": "stdout",
     "output_type": "stream",
     "text": [
      "0\n"
     ]
    }
   ],
   "source": [
    "x = 10\n",
    "\n",
    "x -= 3\n",
    "x *= 7\n",
    "x //= 2\n",
    "x %= 3\n",
    "print(x)"
   ]
  },
  {
   "cell_type": "code",
   "execution_count": 4,
   "id": "1125ef41",
   "metadata": {},
   "outputs": [
    {
     "data": {
      "text/plain": [
       "10"
      ]
     },
     "execution_count": 4,
     "metadata": {},
     "output_type": "execute_result"
    }
   ],
   "source": [
    "# 대입 연산자는 연산자 순서에 주의 해야 합니다 . (항상 대입연산자는 = 앞에 위치)\n",
    "a = 1\n",
    "a =+ 10 \n",
    "a"
   ]
  },
  {
   "cell_type": "markdown",
   "id": "c26c0e95",
   "metadata": {},
   "source": [
    "#### 비교연산자\n",
    "< > <= >= != =="
   ]
  },
  {
   "cell_type": "code",
   "execution_count": 5,
   "id": "b585d1e9",
   "metadata": {},
   "outputs": [
    {
     "data": {
      "text/plain": [
       "False"
      ]
     },
     "execution_count": 5,
     "metadata": {},
     "output_type": "execute_result"
    }
   ],
   "source": [
    "a = 10\n",
    "b = 5\n",
    "a >= 5\n",
    "a > b\n",
    "a <= 5\n",
    "a < b\n",
    "a == b\n",
    "a != b\n",
    "a % b == 0\n",
    "a % b > 1\n",
    "a % 2 == 0  # a는 무슨 값? => 짝수 # a를 2로 나눴을 때 나머지가 0이라는 것은 짝수 라는 의미\n",
    "a % 2 != 0 # a는 무슨 값? => 홀수 # a를 2로 나눴을 때 나머지가 0이 아니라는 것은 홀수 라는 의미"
   ]
  },
  {
   "cell_type": "markdown",
   "id": "e0b613e8",
   "metadata": {},
   "source": [
    "#### 논리연산자\n",
    "& and  \n",
    "| or  \n",
    "not  \n",
    "\n",
    "* and는 좌항 , 우항 값이 모두 True 일 때 최종적으로 True 반환\n",
    "* or는 좌항 , 우항 중 하나만 True 여도 최종적으로 True 반환"
   ]
  },
  {
   "cell_type": "code",
   "execution_count": 6,
   "id": "ffe11c9a",
   "metadata": {},
   "outputs": [
    {
     "data": {
      "text/plain": [
       "False"
      ]
     },
     "execution_count": 6,
     "metadata": {},
     "output_type": "execute_result"
    }
   ],
   "source": [
    "a = 10\n",
    "b = 5\n",
    "\n",
    "(a >= 10) & (b == 5) # 연산자 우선 순위 / &를 사용 할 경우 우선 순위 지정을 위해 소괄호를 쳐 준다.\n",
    "(a >= 10) & (b == 10) # b == 10 이 참이 아니므로 false\n",
    "\n",
    "(a >= 10) | (b == 10) # b가 10과 같다는게 거짓 이지만 a가 10과 크거나 같다는게 참 이므로 true\n",
    "(a != 10) | (b == 10) # a가 10과 같지 않다는게 거짓으로 false / b가 10과 같다는게 거짓으로 false"
   ]
  },
  {
   "cell_type": "code",
   "execution_count": 7,
   "id": "def01696",
   "metadata": {},
   "outputs": [
    {
     "name": "stdout",
     "output_type": "stream",
     "text": [
      "참 입니다\n",
      "트루\n"
     ]
    }
   ],
   "source": [
    "a = 5\n",
    "# if 문장 뒤에 참이 오면 if 문을 실행하고 , 거짓이 오면 else 문장을 실행\n",
    "if a >= 5 and a <= 10 :\n",
    "      print('참 입니다')\n",
    "else :\n",
    "      print('거짓 입니다.')\n",
    "    \n",
    "b = 5\n",
    "if b == 2 or b == 5 :\n",
    "       print('트루')\n",
    "    "
   ]
  },
  {
   "cell_type": "code",
   "execution_count": 8,
   "id": "f37136a5",
   "metadata": {},
   "outputs": [
    {
     "name": "stdout",
     "output_type": "stream",
     "text": [
      "통과?\n",
      "프로그램 종료\n"
     ]
    }
   ],
   "source": [
    "# 단축평가 연산 and or\n",
    "# 논리 연산 수행시에 좌항 결과가 전체 결과로 이미 판명이 나는 경우에 우측을 실행 하지 않음\n",
    "c = 0\n",
    "# 10 / 0 == 0 # 이 코드가 실행되면 에러 (분모가 0이 갈 수 없기 때문에)\n",
    "\n",
    "if c == 0 or 10 / c == 0 :\n",
    "    print('통과?')\n",
    "if c != 0 and 10 / c == 0 :\n",
    "    print('통과?')\n",
    "print('프로그램 종료')"
   ]
  },
  {
   "cell_type": "code",
   "execution_count": 9,
   "id": "1aecd58f",
   "metadata": {},
   "outputs": [
    {
     "name": "stdout",
     "output_type": "stream",
     "text": [
      "False\n",
      "True\n",
      "사과는 10 개 있습니다\n"
     ]
    }
   ],
   "source": [
    "# not 은 ! 와 같은 부정의 의미\n",
    "\n",
    "print(not True)\n",
    "print(not False)\n",
    "\n",
    "apple = 10\n",
    "\n",
    "if not apple < 0 :\n",
    "    print('사과는' , apple , '개 있습니다')"
   ]
  },
  {
   "cell_type": "markdown",
   "id": "2cdcbb92",
   "metadata": {},
   "source": [
    "#### 실습\n",
    "* 사과의 개수를 입력받아서 , 사과가 0 ~ 10인 경우에만 사과의 개수를 출력."
   ]
  },
  {
   "cell_type": "code",
   "execution_count": 30,
   "id": "06de6a00",
   "metadata": {},
   "outputs": [
    {
     "name": "stdout",
     "output_type": "stream",
     "text": [
      "사과의 개수를 입력하세요11\n",
      "셀 수 없습니다.\n"
     ]
    }
   ],
   "source": [
    "a1 = input(\"사과의 개수를 입력하세요\")\n",
    "a2 = int(a1)\n",
    "if a2 <= 10 and a2 >= 0 :\n",
    "    print(\"사과의 개수는\" , a2 , \"개 입니다.\")\n",
    "elif a2 >= 10 or a2 < 0 :\n",
    "        print(\"셀 수 없습니다.\")"
   ]
  },
  {
   "cell_type": "code",
   "execution_count": null,
   "id": "02599354",
   "metadata": {},
   "outputs": [],
   "source": []
  },
  {
   "cell_type": "code",
   "execution_count": null,
   "id": "3337aff5",
   "metadata": {},
   "outputs": [],
   "source": []
  },
  {
   "cell_type": "code",
   "execution_count": null,
   "id": "0f322bb2",
   "metadata": {},
   "outputs": [],
   "source": []
  },
  {
   "cell_type": "code",
   "execution_count": null,
   "id": "644d230e",
   "metadata": {},
   "outputs": [],
   "source": []
  },
  {
   "cell_type": "code",
   "execution_count": null,
   "id": "406c78ef",
   "metadata": {},
   "outputs": [],
   "source": []
  },
  {
   "cell_type": "code",
   "execution_count": null,
   "id": "9a2091f8",
   "metadata": {},
   "outputs": [],
   "source": []
  },
  {
   "cell_type": "code",
   "execution_count": null,
   "id": "9ef5454c",
   "metadata": {},
   "outputs": [],
   "source": []
  },
  {
   "cell_type": "code",
   "execution_count": null,
   "id": "5d2ad5fb",
   "metadata": {},
   "outputs": [],
   "source": []
  }
 ],
 "metadata": {
  "kernelspec": {
   "display_name": "Python 3 (ipykernel)",
   "language": "python",
   "name": "python3"
  },
  "language_info": {
   "codemirror_mode": {
    "name": "ipython",
    "version": 3
   },
   "file_extension": ".py",
   "mimetype": "text/x-python",
   "name": "python",
   "nbconvert_exporter": "python",
   "pygments_lexer": "ipython3",
   "version": "3.11.5"
  }
 },
 "nbformat": 4,
 "nbformat_minor": 5
}
