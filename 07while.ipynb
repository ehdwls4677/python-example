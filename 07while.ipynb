{
 "cells": [
  {
   "cell_type": "code",
   "execution_count": 1,
   "id": "774569d6",
   "metadata": {},
   "outputs": [
    {
     "name": "stdout",
     "output_type": "stream",
     "text": [
      "안녕하세요 1\n",
      "안녕하세요 2\n",
      "안녕하세요 3\n",
      "안녕하세요 4\n",
      "안녕하세요 5\n",
      "안녕하세요 6\n",
      "안녕하세요 7\n",
      "안녕하세요 8\n",
      "안녕하세요 9\n",
      "안녕하세요 10\n"
     ]
    }
   ],
   "source": [
    "# 안녕하세요 10번 출력하기\n",
    "\n",
    "n = 1 # 반복문을 제어 할 변수를 제어 변수라고 부릅니다.\n",
    "\n",
    "while n <= 10 :\n",
    "    print('안녕하세요' , n )\n",
    "    \n",
    "    n += 1 # n = n + 1 제어변수의 증가\n",
    "    "
   ]
  },
  {
   "cell_type": "code",
   "execution_count": 2,
   "id": "55647fcc",
   "metadata": {},
   "outputs": [
    {
     "name": "stdout",
     "output_type": "stream",
     "text": [
      "55\n"
     ]
    }
   ],
   "source": [
    "## 1~10 까지 합계 구하기\n",
    "a = 1 # a값 입력\n",
    "sum2 = 0 # 합계를 누적 할 변수 - 반복문 바깥에 선언\n",
    "while a <= 10 : # a가 10 이하 까지 반복\n",
    "    \n",
    "    sum2 += a # sum2 = sum2 + a\n",
    "    # print(a) # 누적 시키면 합\n",
    "    \n",
    "    a += 1 # 돌아갈 때마다 a+1\n",
    "print(sum2) # 합계인 sum2 출력\n"
   ]
  },
  {
   "cell_type": "markdown",
   "id": "caf958b8",
   "metadata": {},
   "source": [
    "#### 실습\n",
    "\n",
    "구구단 n단 출력하기\n",
    "1. 사용자에게 구구 단수를 입력 받습니다.\n",
    "2. 반복문을 이용해서 n단의 모형을 출력"
   ]
  },
  {
   "cell_type": "code",
   "execution_count": 3,
   "id": "65bad963",
   "metadata": {},
   "outputs": [
    {
     "name": "stdout",
     "output_type": "stream",
     "text": [
      "숫자를 입력하세요2\n",
      "2단\n",
      "------------------------------\n",
      "2 x 1 = 2\n",
      "2 x 2 = 4\n",
      "2 x 3 = 6\n",
      "2 x 4 = 8\n",
      "2 x 5 = 10\n",
      "2 x 6 = 12\n",
      "2 x 7 = 14\n",
      "2 x 8 = 16\n",
      "2 x 9 = 18\n"
     ]
    }
   ],
   "source": [
    "a1 = int(input(\"숫자를 입력하세요\"))\n",
    "a2 = 1\n",
    "print(f\"{a1}단\")\n",
    "print('-'*30)\n",
    "while a2 <= 9 :\n",
    "    a3 = a1 * a2\n",
    "    print(f'{a1} x {a2} = {a3}' )\n",
    "    a2 += 1"
   ]
  },
  {
   "cell_type": "markdown",
   "id": "a1047377",
   "metadata": {},
   "source": [
    "#### 실습\n",
    "1. 50 ~ 100 까지의 합계를 구해주세요."
   ]
  },
  {
   "cell_type": "code",
   "execution_count": 4,
   "id": "a2a8ab36",
   "metadata": {},
   "outputs": [
    {
     "name": "stdout",
     "output_type": "stream",
     "text": [
      "3825\n"
     ]
    }
   ],
   "source": [
    "c = 50\n",
    "sum3 = 0\n",
    "while c <= 100 :\n",
    "    sum3 += c\n",
    "    c += 1\n",
    "print(sum3)\n"
   ]
  },
  {
   "cell_type": "code",
   "execution_count": 5,
   "id": "39ff92ee",
   "metadata": {},
   "outputs": [
    {
     "name": "stdout",
     "output_type": "stream",
     "text": [
      "5 10 15 20 25 30 35 40 45 50 55 60 65 70 75 80 85 90 95 100 "
     ]
    }
   ],
   "source": [
    "# 100 까지 정수 중에서 5의 배수를 출력해라\n",
    "\n",
    "a = 1\n",
    "while a <= 100 :\n",
    "    a += 1\n",
    "    if a % 5 == 0 : # 특정 조건일 때만 출력\n",
    "        print(a , end=' ') # 가로 출력"
   ]
  },
  {
   "cell_type": "code",
   "execution_count": 6,
   "id": "58305f3c",
   "metadata": {},
   "outputs": [
    {
     "name": "stdout",
     "output_type": "stream",
     "text": [
      "10000까지의 15의 배수 개수는 666 개\n"
     ]
    }
   ],
   "source": [
    "# 1~ 10000 정수 중에서 15의 배수의 (개수)\n",
    "\n",
    "a = 1\n",
    "cnt = 0 # 개수를 셀 변수\n",
    "while a <= 10000 :\n",
    "    \n",
    "    if a % 15 == 0 :\n",
    "        cnt += 1 # 15의 배수일 경우 1개씩 누적\n",
    "        \n",
    "    a += 1\n",
    "print(f'10000까지의 15의 배수 개수는 {cnt} 개')\n"
   ]
  },
  {
   "cell_type": "markdown",
   "id": "27895892",
   "metadata": {},
   "source": [
    "#### 실습\n",
    "\n",
    "1. 100까지 정수중 4의 배수이면서 8의 배수가 아닌수의 합계를 구하세요.\n",
    "\n",
    "2. 어떤 정수를 입력 받아서 입력 받은 정수 까지의 약수들의 합계를 구하세요.\n",
    "ex)15를 입력 받음 => 1,3,5,15 => 24"
   ]
  },
  {
   "cell_type": "code",
   "execution_count": 7,
   "id": "42229046",
   "metadata": {},
   "outputs": [
    {
     "name": "stdout",
     "output_type": "stream",
     "text": [
      "676\n"
     ]
    }
   ],
   "source": [
    "a = 1\n",
    "sum = 0\n",
    "while a <= 100 :\n",
    "    \n",
    "    if a % 4 == 0 :\n",
    "        sum += a\n",
    "    if a % 8 == 0 :\n",
    "        sum -= a\n",
    "    a += 1\n",
    "print(sum)"
   ]
  },
  {
   "cell_type": "code",
   "execution_count": 8,
   "id": "80c32cfb",
   "metadata": {},
   "outputs": [
    {
     "name": "stdout",
     "output_type": "stream",
     "text": [
      "4의 배수이면서 8의 배수가 아닌값: 676\n"
     ]
    }
   ],
   "source": [
    "x = 1\n",
    "sum3 = 0 # 합계 누적\n",
    "\n",
    "while x <=100 :\n",
    "    \n",
    "    if x % 4 == 0 and x % 8 != 0:\n",
    "        sum3 += x\n",
    "    x += 1\n",
    "print('4의 배수이면서 8의 배수가 아닌값:' , sum3)"
   ]
  },
  {
   "cell_type": "code",
   "execution_count": 12,
   "id": "842af17e",
   "metadata": {},
   "outputs": [
    {
     "name": "stdout",
     "output_type": "stream",
     "text": [
      "정수를 넣으세요18\n",
      "39\n"
     ]
    }
   ],
   "source": [
    "num = int(input(\"정수를 넣으세요\"))\n",
    "\n",
    "x = 1\n",
    "sum = 0 # 합계 누적\n",
    "while x <= num :\n",
    "    \n",
    "    if num % x == 0 : # 약수의 의미\n",
    "        sum += x     \n",
    "    x += 1\n",
    "print(sum)"
   ]
  }
 ],
 "metadata": {
  "kernelspec": {
   "display_name": "Python 3 (ipykernel)",
   "language": "python",
   "name": "python3"
  },
  "language_info": {
   "codemirror_mode": {
    "name": "ipython",
    "version": 3
   },
   "file_extension": ".py",
   "mimetype": "text/x-python",
   "name": "python",
   "nbconvert_exporter": "python",
   "pygments_lexer": "ipython3",
   "version": "3.11.5"
  }
 },
 "nbformat": 4,
 "nbformat_minor": 5
}
