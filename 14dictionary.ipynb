{
 "cells": [
  {
   "cell_type": "markdown",
   "id": "cd63e909",
   "metadata": {},
   "source": [
    "#### 사전 (dictionary)\n",
    "\n",
    "- 사전은 키 : 값을 쌍으로 저장하는 형태\n",
    "- {}로 생성합니다.\n",
    "- 특징 : 검색에 있어서 빠릅니다."
   ]
  },
  {
   "cell_type": "code",
   "execution_count": 5,
   "id": "b9110963",
   "metadata": {},
   "outputs": [
    {
     "data": {
      "text/plain": [
       "3"
      ]
     },
     "execution_count": 5,
     "metadata": {},
     "output_type": "execute_result"
    }
   ],
   "source": [
    "students = {\"갱얼쥐\" : \"홍길동\" , \"고양이\" : \"김철수\" , \"토끼\" : \"김영희\"} #{키 : 값} # 키는 무조건 문자열로 값은 아무거나 가능\n",
    "\n",
    "students\n",
    "type(students)\n",
    "\n",
    "len(students) # 길이 3\n"
   ]
  },
  {
   "cell_type": "code",
   "execution_count": 8,
   "id": "30289e1e",
   "metadata": {},
   "outputs": [
    {
     "data": {
      "text/plain": [
       "'김철수'"
      ]
     },
     "execution_count": 8,
     "metadata": {},
     "output_type": "execute_result"
    }
   ],
   "source": [
    "#dict의 사용방법\n",
    "#key는 고유합니다. 값을 찾거니 , 변경하거나 , 삭제하는 작업이 전부 key로 일어납니다.\n",
    "\n",
    "students[\"갱얼쥐\"] # 키\n",
    "#students[갱얼쥐] #err\n",
    "\n",
    "a = students[\"고양이\"]\n",
    "a"
   ]
  },
  {
   "cell_type": "code",
   "execution_count": 10,
   "id": "98b43a40",
   "metadata": {},
   "outputs": [
    {
     "data": {
      "text/plain": [
       "False"
      ]
     },
     "execution_count": 10,
     "metadata": {},
     "output_type": "execute_result"
    }
   ],
   "source": [
    "# 값의 유무를 확인할 때는 in 문장합니다.\n",
    "\n",
    "100 in [1,2,3,100]\n",
    "\n",
    "\"갱얼쥐\" in students # T\n",
    "\"강아쥐\" in students # F"
   ]
  },
  {
   "cell_type": "code",
   "execution_count": 64,
   "id": "c2cc884d",
   "metadata": {},
   "outputs": [
    {
     "data": {
      "text/plain": [
       "{'apple': '사과', 'peach': '복숭아', 'book': '책', 'melon': '초록색 과일'}"
      ]
     },
     "execution_count": 64,
     "metadata": {},
     "output_type": "execute_result"
    }
   ],
   "source": [
    "# 사전에 값을 추가하기\n",
    "my_dict = {\"apple\" : \"사과\" , \"peach\" : \"복숭아\" , \"book\" : \"책\"}\n",
    "\n",
    "my_dict [\"melon\"] = \"초록색 과일\"\n",
    "\n",
    "my_dict"
   ]
  },
  {
   "cell_type": "code",
   "execution_count": 13,
   "id": "af40e2bf",
   "metadata": {},
   "outputs": [
    {
     "data": {
      "text/plain": [
       "{'apple': '사과', 'peach': '복숭아', 'book': '책', 'melon': '뮤직듣는곳'}"
      ]
     },
     "execution_count": 13,
     "metadata": {},
     "output_type": "execute_result"
    }
   ],
   "source": [
    "# 값을 수정하기 - 동일 한 키의 값을 변경하면 수정됩니다.\n",
    "my_dict[\"melon\"] = \"뮤직듣는곳\"\n",
    "my_dict"
   ]
  },
  {
   "cell_type": "code",
   "execution_count": 17,
   "id": "15b6bdb0",
   "metadata": {},
   "outputs": [
    {
     "data": {
      "text/plain": [
       "{'apple': '사과', 'peach': '복숭아', 'book': '책'}"
      ]
     },
     "execution_count": 17,
     "metadata": {},
     "output_type": "execute_result"
    }
   ],
   "source": [
    "# 값을 삭제하기 - del(키)\n",
    "\n",
    "if \"melon\" in my_dict :\n",
    "    print\n",
    "    #del(my_dict[\"melon\"]) #melon이 삭제됩니다\n",
    "\n",
    "my_dict"
   ]
  },
  {
   "cell_type": "code",
   "execution_count": 26,
   "id": "a94668ea",
   "metadata": {},
   "outputs": [
    {
     "name": "stdout",
     "output_type": "stream",
     "text": [
      "dict_keys(['apple', 'peach', 'book'])\n",
      "키는apple , 값은 사과\n",
      "키는peach , 값은 복숭아\n",
      "키는book , 값은 책\n",
      "dict_values(['사과', '복숭아', '책'])\n",
      "dict_items([('apple', '사과'), ('peach', '복숭아'), ('book', '책')])\n",
      "apple 사과\n",
      "peach 복숭아\n",
      "book 책\n"
     ]
    }
   ],
   "source": [
    "# 사전의 반복\n",
    "print(my_dict.keys()) # 키를 뽑아서 나열해 줍니다.\n",
    "\n",
    "for i in my_dict.keys() :\n",
    "    print(f'키는{i} , 값은 {my_dict[i]}')\n",
    "\n",
    "print(my_dict.values()) # 값을 뽑아서 나열해 줍니다. (반복가능)\n",
    "\n",
    "print(my_dict.items()) #키: 값을 한번에 뽑아서 나열해 줍니다.\n",
    "\n",
    "for i , j in my_dict.items() :\n",
    "    print(i,j)"
   ]
  },
  {
   "cell_type": "code",
   "execution_count": 27,
   "id": "fc878c1b",
   "metadata": {},
   "outputs": [
    {
     "name": "stdout",
     "output_type": "stream",
     "text": [
      "apple\n",
      "peach\n",
      "book\n"
     ]
    }
   ],
   "source": [
    "# 그냥 사전을 반복 돌리면 key가 나옵니다.\n",
    "for i in my_dict :\n",
    "    print(i) # key"
   ]
  },
  {
   "cell_type": "code",
   "execution_count": 31,
   "id": "3c9e4a99",
   "metadata": {},
   "outputs": [
    {
     "data": {
      "text/plain": [
       "{}"
      ]
     },
     "execution_count": 31,
     "metadata": {},
     "output_type": "execute_result"
    }
   ],
   "source": [
    "# 빈 사전 만들기\n",
    "\n",
    "dict_ = {}\n",
    "dict_\n",
    "\n",
    "dict_ = dict()\n",
    "dict()"
   ]
  },
  {
   "cell_type": "markdown",
   "id": "d2ce8c9b",
   "metadata": {},
   "source": [
    "#### 실습\n",
    "\n",
    "1. eng 이름으로 빈 사전을 하나 생성합니다.\n",
    "2. 사용자가 '그만' 입력 할 때 까지 영단어와 뜻을 입력 받습니다.\n",
    "3. 영단어를 key , 뜻을 values 빈 사전에 하나씩 추가하면 됩니다.\n",
    "4. 그만 입력하면 사전 내부 데이터를 반복문으로 출력"
   ]
  },
  {
   "cell_type": "code",
   "execution_count": 146,
   "id": "617b6df8",
   "metadata": {},
   "outputs": [
    {
     "name": "stdout",
     "output_type": "stream",
     "text": [
      "영단어장 만들기\n",
      "종료 하려면 입력창에 그만을 입력하세요\n",
      "단어를 입력하세요w\n",
      "뜻을 입력하세요ㅈ\n",
      "단어 입력 성공\n",
      "오늘 공부한 단어\n",
      "오늘 공부한 단어w 뜻w\n"
     ]
    },
    {
     "ename": "KeyboardInterrupt",
     "evalue": "Interrupted by user",
     "output_type": "error",
     "traceback": [
      "\u001b[1;31m---------------------------------------------------------------------------\u001b[0m",
      "\u001b[1;31mKeyboardInterrupt\u001b[0m                         Traceback (most recent call last)",
      "Cell \u001b[1;32mIn[146], line 6\u001b[0m\n\u001b[0;32m      4\u001b[0m \u001b[38;5;28mprint\u001b[39m(\u001b[38;5;124m\"\u001b[39m\u001b[38;5;124m종료 하려면 입력창에 그만을 입력하세요\u001b[39m\u001b[38;5;124m\"\u001b[39m)\n\u001b[0;32m      5\u001b[0m \u001b[38;5;28;01mwhile\u001b[39;00m \u001b[38;5;28;01mTrue\u001b[39;00m :\n\u001b[1;32m----> 6\u001b[0m     word \u001b[38;5;241m=\u001b[39m \u001b[38;5;28minput\u001b[39m(\u001b[38;5;124m\"\u001b[39m\u001b[38;5;124m단어를 입력하세요\u001b[39m\u001b[38;5;124m\"\u001b[39m)\n\u001b[0;32m      7\u001b[0m     \u001b[38;5;28;01mif\u001b[39;00m word \u001b[38;5;241m==\u001b[39m \u001b[38;5;124m\"\u001b[39m\u001b[38;5;124m그만\u001b[39m\u001b[38;5;124m\"\u001b[39m :\n\u001b[0;32m      8\u001b[0m         \u001b[38;5;28mprint\u001b[39m(\u001b[38;5;124m\"\u001b[39m\u001b[38;5;124m단어 입력을 종료합니다.\u001b[39m\u001b[38;5;124m\"\u001b[39m)\n",
      "File \u001b[1;32mC:\\ProgramData\\anaconda3\\Lib\\site-packages\\ipykernel\\kernelbase.py:1202\u001b[0m, in \u001b[0;36mKernel.raw_input\u001b[1;34m(self, prompt)\u001b[0m\n\u001b[0;32m   1200\u001b[0m     msg \u001b[38;5;241m=\u001b[39m \u001b[38;5;124m\"\u001b[39m\u001b[38;5;124mraw_input was called, but this frontend does not support input requests.\u001b[39m\u001b[38;5;124m\"\u001b[39m\n\u001b[0;32m   1201\u001b[0m     \u001b[38;5;28;01mraise\u001b[39;00m StdinNotImplementedError(msg)\n\u001b[1;32m-> 1202\u001b[0m \u001b[38;5;28;01mreturn\u001b[39;00m \u001b[38;5;28mself\u001b[39m\u001b[38;5;241m.\u001b[39m_input_request(\n\u001b[0;32m   1203\u001b[0m     \u001b[38;5;28mstr\u001b[39m(prompt),\n\u001b[0;32m   1204\u001b[0m     \u001b[38;5;28mself\u001b[39m\u001b[38;5;241m.\u001b[39m_parent_ident[\u001b[38;5;124m\"\u001b[39m\u001b[38;5;124mshell\u001b[39m\u001b[38;5;124m\"\u001b[39m],\n\u001b[0;32m   1205\u001b[0m     \u001b[38;5;28mself\u001b[39m\u001b[38;5;241m.\u001b[39mget_parent(\u001b[38;5;124m\"\u001b[39m\u001b[38;5;124mshell\u001b[39m\u001b[38;5;124m\"\u001b[39m),\n\u001b[0;32m   1206\u001b[0m     password\u001b[38;5;241m=\u001b[39m\u001b[38;5;28;01mFalse\u001b[39;00m,\n\u001b[0;32m   1207\u001b[0m )\n",
      "File \u001b[1;32mC:\\ProgramData\\anaconda3\\Lib\\site-packages\\ipykernel\\kernelbase.py:1245\u001b[0m, in \u001b[0;36mKernel._input_request\u001b[1;34m(self, prompt, ident, parent, password)\u001b[0m\n\u001b[0;32m   1242\u001b[0m \u001b[38;5;28;01mexcept\u001b[39;00m \u001b[38;5;167;01mKeyboardInterrupt\u001b[39;00m:\n\u001b[0;32m   1243\u001b[0m     \u001b[38;5;66;03m# re-raise KeyboardInterrupt, to truncate traceback\u001b[39;00m\n\u001b[0;32m   1244\u001b[0m     msg \u001b[38;5;241m=\u001b[39m \u001b[38;5;124m\"\u001b[39m\u001b[38;5;124mInterrupted by user\u001b[39m\u001b[38;5;124m\"\u001b[39m\n\u001b[1;32m-> 1245\u001b[0m     \u001b[38;5;28;01mraise\u001b[39;00m \u001b[38;5;167;01mKeyboardInterrupt\u001b[39;00m(msg) \u001b[38;5;28;01mfrom\u001b[39;00m \u001b[38;5;28;01mNone\u001b[39;00m\n\u001b[0;32m   1246\u001b[0m \u001b[38;5;28;01mexcept\u001b[39;00m \u001b[38;5;167;01mException\u001b[39;00m:\n\u001b[0;32m   1247\u001b[0m     \u001b[38;5;28mself\u001b[39m\u001b[38;5;241m.\u001b[39mlog\u001b[38;5;241m.\u001b[39mwarning(\u001b[38;5;124m\"\u001b[39m\u001b[38;5;124mInvalid Message:\u001b[39m\u001b[38;5;124m\"\u001b[39m, exc_info\u001b[38;5;241m=\u001b[39m\u001b[38;5;28;01mTrue\u001b[39;00m)\n",
      "\u001b[1;31mKeyboardInterrupt\u001b[0m: Interrupted by user"
     ]
    }
   ],
   "source": [
    "#딕셔너리[\"키\"]\n",
    "eng = {}\n",
    "print(\"영단어장 만들기\")\n",
    "print(\"종료 하려면 입력창에 그만을 입력하세요\")\n",
    "while True :\n",
    "    word = input(\"단어를 입력하세요\")\n",
    "    if word == \"그만\" :\n",
    "        print(\"단어 입력을 종료합니다.\")\n",
    "        break\n",
    "    words = input (\"뜻을 입력하세요\")\n",
    "        eng[word]= words\n",
    "        print(\"단어 입력 성공\")\n",
    "    \n",
    "    print(\"오늘 공부한 단어\")\n",
    "    for i in eng : # i는 키\n",
    "        for j in eng.\n",
    "            print(f'오늘 공부한 단어{i} 뜻{j}')\n",
    "            \n",
    "        \n",
    "\n",
    "\n",
    "\n",
    "    \n",
    "            \n",
    "\n"
   ]
  },
  {
   "cell_type": "code",
   "execution_count": 106,
   "id": "9e1ff3f4",
   "metadata": {},
   "outputs": [
    {
     "ename": "SyntaxError",
     "evalue": "f-string: invalid syntax. Perhaps you forgot a comma? (3550716580.py, line 12)",
     "output_type": "error",
     "traceback": [
      "\u001b[1;36m  Cell \u001b[1;32mIn[106], line 12\u001b[1;36m\u001b[0m\n\u001b[1;33m    print(f' {i}, : ,{eng[]}')\u001b[0m\n\u001b[1;37m    ^\u001b[0m\n\u001b[1;31mSyntaxError\u001b[0m\u001b[1;31m:\u001b[0m f-string: invalid syntax. Perhaps you forgot a comma?\n"
     ]
    }
   ],
   "source": [
    "while True :\n",
    "    a = input ('영단어>')\n",
    "    if a == '그만':\n",
    "        print('단어 입력을 종료합니다')\n",
    "        break\n",
    "    b = input (\"뜻>\")\n",
    "    eng[a] = b\n",
    "    print('단어 등록 성공')\n",
    "\n",
    "print('====오늘 공부한 단어 ====')\n",
    "for i in eng : # i는 키\n",
    "    print(f' {i}, : ,{eng[]}')"
   ]
  },
  {
   "cell_type": "markdown",
   "id": "1a34b162",
   "metadata": {},
   "source": [
    "#### 실습\n",
    "- 사전을 사용한 아이디 비밀번호 확인\n",
    "    key는 id ,value는 pw로 사용\n",
    "    \n",
    "1.입력받은 아이디가 사전에 입력된 key인지 먼저 확인 합니다.\n",
    "2.사전에 존재하면 비밀번호를 입력받아서 , 해당 아이디와 비밀번호가 정확히 일치하는지 확인 한 후에 , \"로그인 성공\" 출력하고 반복문을 탈출\n",
    "3.사전에 아이디가 없다면 , \"없는 아이디입니다\" 출력\n"
   ]
  },
  {
   "cell_type": "code",
   "execution_count": null,
   "id": "d31d212e",
   "metadata": {},
   "outputs": [
    {
     "name": "stdout",
     "output_type": "stream",
     "text": [
      "-----로그인-----\n",
      "아이디를 입력 해 주세요aaa\n",
      "비밀번호를 입력 해 주세요abc123\n",
      "로그인 성공\n",
      "-----로그인-----\n"
     ]
    }
   ],
   "source": [
    "user = {'aaa' : 'abc123' ,'bbb' : 'def123' , 'ccc' : '1234'}\n",
    "for a in user.keys() : \n",
    "    for b in user.values() :\n",
    "        while True :\n",
    "            print(\"-----로그인-----\")\n",
    "            ID = input(\"아이디를 입력 해 주세요\")\n",
    "            if ID == a :\n",
    "                pw = input(\"비밀번호를 입력 해 주세요\")\n",
    "                if pw == b :\n",
    "                    print(\"로그인 성공\")\n",
    "                else :\n",
    "                    print(\"비밀번호를 확인 하여 주세요\")\n",
    "            else:\n",
    "                print(\"아이디가 틀렸습니다.\")"
   ]
  },
  {
   "cell_type": "code",
   "execution_count": null,
   "id": "671716e2",
   "metadata": {},
   "outputs": [],
   "source": [
    "\" \" in user[1,2,3,100]"
   ]
  },
  {
   "cell_type": "code",
   "execution_count": null,
   "id": "f2f526b0",
   "metadata": {},
   "outputs": [],
   "source": []
  },
  {
   "cell_type": "code",
   "execution_count": null,
   "id": "4931b6b8",
   "metadata": {},
   "outputs": [],
   "source": []
  },
  {
   "cell_type": "code",
   "execution_count": null,
   "id": "1ef19901",
   "metadata": {},
   "outputs": [],
   "source": []
  },
  {
   "cell_type": "code",
   "execution_count": null,
   "id": "329d7ab3",
   "metadata": {},
   "outputs": [],
   "source": []
  },
  {
   "cell_type": "code",
   "execution_count": null,
   "id": "89dbe16e",
   "metadata": {},
   "outputs": [],
   "source": []
  }
 ],
 "metadata": {
  "kernelspec": {
   "display_name": "Python 3 (ipykernel)",
   "language": "python",
   "name": "python3"
  },
  "language_info": {
   "codemirror_mode": {
    "name": "ipython",
    "version": 3
   },
   "file_extension": ".py",
   "mimetype": "text/x-python",
   "name": "python",
   "nbconvert_exporter": "python",
   "pygments_lexer": "ipython3",
   "version": "3.11.5"
  }
 },
 "nbformat": 4,
 "nbformat_minor": 5
}
