{
 "cells": [
  {
   "cell_type": "code",
   "execution_count": 1,
   "id": "6d722c8e",
   "metadata": {},
   "outputs": [
    {
     "name": "stdout",
     "output_type": "stream",
     "text": [
      "사과는 0개 이하입니다.\n",
      "배가 고프네요\n",
      "프로그램 정상 종료\n"
     ]
    }
   ],
   "source": [
    "apple = -1\n",
    "\n",
    "if apple >= 0 :\n",
    "    print( f'사과는 {apple}개 있습니다.')\n",
    "    \n",
    "else:\n",
    "    print('사과는 0개 이하입니다.')\n",
    "    print('배가 고프네요')\n",
    "\n",
    "print('프로그램 정상 종료')"
   ]
  },
  {
   "cell_type": "markdown",
   "id": "be0e6885",
   "metadata": {},
   "source": [
    "#### if ~ elif"
   ]
  },
  {
   "cell_type": "code",
   "execution_count": 2,
   "id": "516b2f4f",
   "metadata": {},
   "outputs": [
    {
     "name": "stdout",
     "output_type": "stream",
     "text": [
      "나이를 입력하세요\n"
     ]
    },
    {
     "ename": "ValueError",
     "evalue": "invalid literal for int() with base 10: ''",
     "output_type": "error",
     "traceback": [
      "\u001b[1;31m---------------------------------------------------------------------------\u001b[0m",
      "\u001b[1;31mValueError\u001b[0m                                Traceback (most recent call last)",
      "Cell \u001b[1;32mIn[2], line 1\u001b[0m\n\u001b[1;32m----> 1\u001b[0m age \u001b[38;5;241m=\u001b[39m \u001b[38;5;28mint\u001b[39m(\u001b[38;5;28minput\u001b[39m(\u001b[38;5;124m'\u001b[39m\u001b[38;5;124m나이를 입력하세요\u001b[39m\u001b[38;5;124m'\u001b[39m))\n\u001b[0;32m      3\u001b[0m \u001b[38;5;28;01mif\u001b[39;00m age \u001b[38;5;241m>\u001b[39m\u001b[38;5;241m=\u001b[39m \u001b[38;5;241m20\u001b[39m:\n\u001b[0;32m      4\u001b[0m     \u001b[38;5;28mprint\u001b[39m(\u001b[38;5;124m'\u001b[39m\u001b[38;5;124m성인입니다.\u001b[39m\u001b[38;5;124m'\u001b[39m)\n",
      "\u001b[1;31mValueError\u001b[0m: invalid literal for int() with base 10: ''"
     ]
    }
   ],
   "source": [
    "age = int(input('나이를 입력하세요'))\n",
    "\n",
    "if age >= 20:\n",
    "    print('성인입니다.')\n",
    "elif age >= 17 :\n",
    "    print('고등학생 입니다.')\n",
    "elif age >= 14 :\n",
    "    print('중학생 입니다.')\n",
    "elif age >= 8 :\n",
    "    print('초등학생 입니다.')\n",
    "elif age >= 5 :\n",
    "    print('유치원생 입니다.')\n",
    "elif age >= 1 :\n",
    "    print('아동 입니다.')\n",
    "else :\n",
    "    print('태어나지 않았습니다.')"
   ]
  },
  {
   "cell_type": "code",
   "execution_count": null,
   "id": "f7edf715",
   "metadata": {},
   "outputs": [],
   "source": [
    "x = int(input('x 값을 입력 하세요'))\n",
    "y = int(input('y 값을 입력 하세요'))\n",
    "if x > y :\n",
    "    print(f'큰 수는 {x} 입니다.')\n",
    "    \n",
    "elif y > x :\n",
    "    print(f'큰 수는 {y} 입니다.')\n",
    "else :\n",
    "    print('같은 값 입니다.')"
   ]
  },
  {
   "cell_type": "markdown",
   "id": "05c3012a",
   "metadata": {},
   "source": [
    "#### 실습\n",
    "정수 1개를 입력 받아서 , 이 숫자가 3의 배수인지 아닌지를 확인하는 조건식을 작성 해 보세요.  \n",
    "힌트 - 3의 배수는 3으로 나누어 떨어진다"
   ]
  },
  {
   "cell_type": "code",
   "execution_count": null,
   "id": "9a663ce2",
   "metadata": {},
   "outputs": [],
   "source": [
    "n = int(input('숫자를 입력 하세요'))\n",
    "if n % 3 == 0 :\n",
    "    print(f'{n}은 3의 배수 입니다.')\n",
    "else :\n",
    "    print(f'{n}은 3의 배수가 아닙니다.')"
   ]
  },
  {
   "cell_type": "markdown",
   "id": "049c038d",
   "metadata": {},
   "source": [
    "#### 중첩 if 문장\n",
    "들여쓰기"
   ]
  },
  {
   "cell_type": "code",
   "execution_count": null,
   "id": "81fbd090",
   "metadata": {},
   "outputs": [],
   "source": [
    "#### 키를 입력 받음\n",
    "\n",
    "cm = int(input('신장을 입력하세요'))\n",
    "\n",
    "if cm >= 140 :\n",
    "    \n",
    "    kg = int(input('중량을 입력하세요')) # if 문 안에서도 필요하면 입력을 받을 수 있음\n",
    "    \n",
    "    if kg >= 50 :\n",
    "        print('성공입니다! 놀이기구 탑승 가능!')\n",
    "    \n",
    "    else :\n",
    "        print('몸무게 미달입니다 ! 놀이기구 탑승 불가능!')\n",
    "    print('-' * 30)\n",
    "else :\n",
    "    print('땡! 탈락입니다.')"
   ]
  },
  {
   "cell_type": "markdown",
   "id": "97e2d701",
   "metadata": {},
   "source": [
    "#### 실습\n",
    "1.point를 입력 받습니다.  \n",
    "2.point가 90점 이상인 경우 A학점 , 80점 이상이면 B학점 , ..... 70미만인 경우는 F학점으로 조건을 분기하세요  \n",
    "3.point가 90점 이상인 경우는 다시 한번 조건을 검사해서 95점 이상이면 A+ , 이하면 A로 출력  "
   ]
  },
  {
   "cell_type": "code",
   "execution_count": null,
   "id": "b69e3569",
   "metadata": {},
   "outputs": [],
   "source": [
    "p1 = int(input('점수를 입력해주세요'))\n",
    "if p1 >= 90 :\n",
    "    \n",
    "    if p1 >= 95 :\n",
    "        print(\"A+\")\n",
    "    else :\n",
    "        print (\"A\")\n",
    "elif p1 >= 80 :\n",
    "    print(\"B\")\n",
    "elif p1 >= 70 :\n",
    "    print(\"C\")\n",
    "else :\n",
    "    print(\"F\")"
   ]
  },
  {
   "cell_type": "markdown",
   "id": "4270c4d4",
   "metadata": {},
   "source": [
    "#### 실습\n",
    "1. 정수 1개를 입력 받습니다.\n",
    "2. 짝수 인지 , 홀수 인지 , 음수인지 , 0인지 확인 하는 조건문을 작성해 보세요\n",
    "3. 저는 양수와 음수를 먼저 구분\n",
    "> 짝수는 2로 나누었을 때 나머지가 0"
   ]
  },
  {
   "cell_type": "code",
   "execution_count": 9,
   "id": "9aaecd0e",
   "metadata": {},
   "outputs": [
    {
     "name": "stdout",
     "output_type": "stream",
     "text": [
      "숫자를 입력하세요3\n",
      "양수 입니다.\n",
      "3 홀수 입니다.\n"
     ]
    }
   ],
   "source": [
    "nm = int(input(\"숫자를 입력하세요\"))\n",
    "\n",
    "if nm > 0 :\n",
    "    print(\"양수 입니다.\")\n",
    "    if nm % 2 == 0 :\n",
    "        print(f\"{nm} 짝수 입니다.\")\n",
    "    else :\n",
    "        print(f\"{nm} 홀수 입니다.\")\n",
    "elif nm < 0 :\n",
    "    print(f\"{nm} 음수 입니다.\")\n",
    "    if nm % 2 == 0 :\n",
    "        print(f\"{nm} 짝수 입니다.\")\n",
    "    else :\n",
    "        print(f\"{nm} 홀수 입니다.\")\n",
    "else :\n",
    "    print(f\"{nm} 0입니다.\")"
   ]
  },
  {
   "cell_type": "code",
   "execution_count": 11,
   "id": "47729f4f",
   "metadata": {},
   "outputs": [
    {
     "name": "stdout",
     "output_type": "stream",
     "text": [
      "정수 입력>50\n",
      "50은 짝수 입니다.\n"
     ]
    }
   ],
   "source": [
    "num = int(input('정수 입력>'))\n",
    "\n",
    "if num >= 0 :\n",
    "    \n",
    "    if num == 0 : # 0인 경우\n",
    "        print(\"0 입니다.\")\n",
    "    elif num % 2 == 0:\n",
    "        print(f\"{num}은 짝수 입니다.\")\n",
    "    else :\n",
    "        print(f\"{num}은 홀수 입니다.\")\n",
    "else :\n",
    "    print(f'{num}은 음수 입니다.')"
   ]
  },
  {
   "cell_type": "code",
   "execution_count": null,
   "id": "641f3b26",
   "metadata": {},
   "outputs": [],
   "source": []
  },
  {
   "cell_type": "code",
   "execution_count": null,
   "id": "a0af256c",
   "metadata": {},
   "outputs": [],
   "source": []
  },
  {
   "cell_type": "code",
   "execution_count": null,
   "id": "fd177453",
   "metadata": {},
   "outputs": [],
   "source": []
  }
 ],
 "metadata": {
  "kernelspec": {
   "display_name": "Python 3 (ipykernel)",
   "language": "python",
   "name": "python3"
  },
  "language_info": {
   "codemirror_mode": {
    "name": "ipython",
    "version": 3
   },
   "file_extension": ".py",
   "mimetype": "text/x-python",
   "name": "python",
   "nbconvert_exporter": "python",
   "pygments_lexer": "ipython3",
   "version": "3.11.5"
  }
 },
 "nbformat": 4,
 "nbformat_minor": 5
}
