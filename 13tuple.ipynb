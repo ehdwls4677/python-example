{
 "cells": [
  {
   "cell_type": "markdown",
   "id": "640ba49f",
   "metadata": {},
   "source": [
    "#### tuple\n",
    "\n",
    "1.튜플은 리스트와 거의 유사합니다. 하지만 , 값을 한번 저장한 후에는 값의 변경이 불가능"
   ]
  },
  {
   "cell_type": "code",
   "execution_count": 1,
   "id": "2831f3eb",
   "metadata": {},
   "outputs": [
    {
     "name": "stdout",
     "output_type": "stream",
     "text": [
      "87\n",
      "23\n",
      "43\n",
      "55\n",
      "30\n"
     ]
    },
    {
     "data": {
      "text/plain": [
       "tuple"
      ]
     },
     "execution_count": 1,
     "metadata": {},
     "output_type": "execute_result"
    }
   ],
   "source": [
    "# 튜플의 생성\n",
    "points = (87,23,43,55,30)\n",
    "\n",
    "for i in points :\n",
    "    print(i)\n",
    "\n",
    "type(points) # 튜플"
   ]
  },
  {
   "cell_type": "code",
   "execution_count": 6,
   "id": "520d8b2e",
   "metadata": {},
   "outputs": [
    {
     "data": {
      "text/plain": [
       "(1, 2, 3, 4, 5, 6, 7, 8, 9)"
      ]
     },
     "execution_count": 6,
     "metadata": {},
     "output_type": "execute_result"
    }
   ],
   "source": [
    "tu = 1,2,3,4,5,6,7,8,9\n",
    "\n",
    "tu\n",
    "\n",
    "tu[0] # 인덱싱\n",
    "tu[1]\n",
    "tu[0:3] #슬라이싱\n",
    "tu[ : ] #슬라이싱"
   ]
  },
  {
   "cell_type": "code",
   "execution_count": 8,
   "id": "fe6753b0",
   "metadata": {},
   "outputs": [
    {
     "ename": "TypeError",
     "evalue": "'tuple' object does not support item assignment",
     "output_type": "error",
     "traceback": [
      "\u001b[1;31m---------------------------------------------------------------------------\u001b[0m",
      "\u001b[1;31mTypeError\u001b[0m                                 Traceback (most recent call last)",
      "Cell \u001b[1;32mIn[8], line 2\u001b[0m\n\u001b[0;32m      1\u001b[0m \u001b[38;5;66;03m# 튜플은 값의 변경이 불가능 합니다.\u001b[39;00m\n\u001b[1;32m----> 2\u001b[0m tu[\u001b[38;5;241m0\u001b[39m] \u001b[38;5;241m=\u001b[39m \u001b[38;5;241m123\u001b[39m \u001b[38;5;66;03m# 값의 변경이 안 됩니다.\u001b[39;00m\n\u001b[0;32m      3\u001b[0m tu\u001b[38;5;241m.\u001b[39mappend(\u001b[38;5;241m100\u001b[39m)\n",
      "\u001b[1;31mTypeError\u001b[0m: 'tuple' object does not support item assignment"
     ]
    }
   ],
   "source": [
    "# 튜플은 값의 변경이 불가능 합니다.\n",
    "# tu[0] = 123 # 값의 변경이 안 됩니다.\n",
    "# tu.append(100) # err\n",
    "# tu.insert(3,100) # err\n",
    "\n",
    "# 튜플이 지원하는 함수는 index , count 뿐입니다.\n",
    "# tu.index(8)\n",
    "# tu.count()"
   ]
  },
  {
   "cell_type": "markdown",
   "id": "fa039f90",
   "metadata": {},
   "source": [
    "### 리스트와 튜플의 상호형 변환"
   ]
  },
  {
   "cell_type": "code",
   "execution_count": 13,
   "id": "a105a090",
   "metadata": {},
   "outputs": [
    {
     "name": "stdout",
     "output_type": "stream",
     "text": [
      "[1, 2, 3, 4, 5]\n",
      "(1, 2, 3, 4, 5)\n"
     ]
    }
   ],
   "source": [
    "a = [1,2,3,4,5,]\n",
    "\n",
    "print(a)\n",
    "\n",
    "# 리스트를 -> 튜플로\n",
    "\n",
    "b = tuple(a)\n",
    "\n",
    "print(b)"
   ]
  },
  {
   "cell_type": "code",
   "execution_count": 16,
   "id": "167e58d6",
   "metadata": {},
   "outputs": [
    {
     "name": "stdout",
     "output_type": "stream",
     "text": [
      "[1, 2, 3, 4, 5]\n"
     ]
    }
   ],
   "source": [
    "# 튜플 => 리스트\n",
    "c = list(b)\n",
    "print(c)"
   ]
  },
  {
   "cell_type": "code",
   "execution_count": null,
   "id": "f399be9a",
   "metadata": {},
   "outputs": [],
   "source": []
  }
 ],
 "metadata": {
  "kernelspec": {
   "display_name": "Python 3 (ipykernel)",
   "language": "python",
   "name": "python3"
  },
  "language_info": {
   "codemirror_mode": {
    "name": "ipython",
    "version": 3
   },
   "file_extension": ".py",
   "mimetype": "text/x-python",
   "name": "python",
   "nbconvert_exporter": "python",
   "pygments_lexer": "ipython3",
   "version": "3.11.5"
  }
 },
 "nbformat": 4,
 "nbformat_minor": 5
}
