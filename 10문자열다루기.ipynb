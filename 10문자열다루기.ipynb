{
 "cells": [
  {
   "cell_type": "markdown",
   "id": "5fea4833",
   "metadata": {},
   "source": [
    "### 문자열 다루기\n",
    "- 문자열은 인덱스(index) 순서를 가지고 , 맨 앞 글자가 0번째가 되고 , 그 뒤로 1씩 증가하는 형태\n",
    "> 문자열.[인덱스번호]."
   ]
  },
  {
   "cell_type": "code",
   "execution_count": 1,
   "id": "6fe4b7da",
   "metadata": {},
   "outputs": [
    {
     "data": {
      "text/plain": [
       "'p'"
      ]
     },
     "execution_count": 1,
     "metadata": {},
     "output_type": "execute_result"
    }
   ],
   "source": [
    "a = 'python' #[p, y, t, h, o, n]\n",
    "\n",
    "a[0] # p\n",
    "a[1] # y\n",
    "a[2] # t\n",
    "a[3] # h\n",
    "a[4] # o\n",
    "a[5] # n\n",
    "#a[6] # 인덱스를 초과 한 값은 에러 발생\n",
    "\n",
    "a[-1] # 음수 기입시 뒤에서 부터 시작 # n\n",
    "a[-2] # o\n",
    "a[-6] # p"
   ]
  },
  {
   "cell_type": "code",
   "execution_count": 3,
   "id": "94f6def9",
   "metadata": {},
   "outputs": [
    {
     "name": "stdout",
     "output_type": "stream",
     "text": [
      "p y t h o n "
     ]
    }
   ],
   "source": [
    "# 문자열도 반복문에 적용이 된다.\n",
    "a = 'python'\n",
    "\n",
    "for i in a : #python\n",
    "    print(i , end = ' ')"
   ]
  },
  {
   "cell_type": "markdown",
   "id": "6b88cd8f",
   "metadata": {},
   "source": [
    "#### 문자열 슬라이싱\n",
    ">문자열.[시작값 : 끝값미만 : 스탭]"
   ]
  },
  {
   "cell_type": "code",
   "execution_count": 17,
   "id": "10fb3057",
   "metadata": {},
   "outputs": [
    {
     "name": "stdout",
     "output_type": "stream",
     "text": [
      "hello\n",
      "python\n",
      "hello\n",
      "python\n",
      "hello python\n",
      "hello python\n",
      "hlopto\n",
      " yhn\n",
      "nhy le\n"
     ]
    }
   ],
   "source": [
    "a = 'hello python'\n",
    "\n",
    "print( a[0 : 5]) # 0 ~5 미만\n",
    "print( a[6 : 12])# 6 ~12 미만\n",
    "\n",
    "print( a[ :5]) # 시작 ~5미만\n",
    "print( a[6:]) # 6 ~끝 까지\n",
    "\n",
    "print( a[:]) # 문자열 전부\n",
    "\n",
    "# step값을 입력 하는 경우\n",
    "print(a)\n",
    "print( a[ : :2 ]) #시작~ 끝 / 2씩 건너 뛰기\n",
    "print(a[ 5: : 2]) # 5 ~끝 / 2씩 건너 뛰기\n",
    "\n",
    "#음수\n",
    "print(a[ :0 : -2]) # 끝 ~ 0번째 거꾸로"
   ]
  },
  {
   "cell_type": "markdown",
   "id": "ecab10ea",
   "metadata": {},
   "source": [
    "#### 실습\n",
    "1.사용자에게 문자열 형태로 주민번호를 입력 받아서 ex) 200817-1231234  \n",
    "2.주민번호를 인덱싱 해서 남자 or 여자 인지 확인 해 보세요"
   ]
  },
  {
   "cell_type": "code",
   "execution_count": 62,
   "id": "9e372659",
   "metadata": {},
   "outputs": [
    {
     "name": "stdout",
     "output_type": "stream",
     "text": [
      "주민번호를 입력하세요9605111234567\n",
      "960511 - 1234567\n",
      "\n",
      "\n"
     ]
    }
   ],
   "source": [
    "num = input('주민번호를 입력하세요')\n",
    "print(num[0 :6] ,'-', num[6:])\n",
    "if print(num[6:0]) == 1:\n",
    "    print('남자입니다.')\n",
    "if print(num[6:0]) == 2:\n",
    "    print('여자입니다.')\n",
    "   "
   ]
  },
  {
   "cell_type": "code",
   "execution_count": 71,
   "id": "b49f9865",
   "metadata": {},
   "outputs": [
    {
     "name": "stdout",
     "output_type": "stream",
     "text": [
      "주민번호>960511-2345678\n",
      "여자 입니다.\n"
     ]
    }
   ],
   "source": [
    "num = input('주민번호>')\n",
    "\n",
    "a = num[7] # 입력 받은 값에서 7번째 인덱싱 해서 a에 저장\n",
    "if a == '1' or a == '3':\n",
    "    print('남자 입니다.')\n",
    "elif a == '2' or a == '4':\n",
    "     print('여자 입니다.')\n",
    "else:\n",
    "    print('등록 된 주민번호가 아닙니다.')"
   ]
  },
  {
   "cell_type": "markdown",
   "id": "406fd7f5",
   "metadata": {},
   "source": [
    "#### 문자열 다루는 함수\n",
    "- 함수 : 공용적으로 사용 할 수 있는 미리 만들어진 기능 , ()가 붙어서 나옵니다.\n",
    "- 공통내장함수 - 어디든 사용 가능\n",
    "- 문자열에서만 내장함수 - 문자열에서만 사용 가능"
   ]
  },
  {
   "cell_type": "code",
   "execution_count": 80,
   "id": "27068880",
   "metadata": {},
   "outputs": [
    {
     "name": "stdout",
     "output_type": "stream",
     "text": [
      "6\n",
      "4\n",
      "999\n",
      "아이디를 입력하세요 > ehd\n",
      "아이디는 6글자 이상이어야 합니다.\n"
     ]
    }
   ],
   "source": [
    "print(len('python')) # 문자열의 길이를 반환\n",
    "print(len([1,2,3,4])) # 리스트 길이를 반환\n",
    "print(len(range (1, 1000)))\n",
    "\n",
    "# 아이디는 6글자 이상이어야 한다\n",
    "ids = input ('아이디를 입력하세요 > ')\n",
    "\n",
    "if len(ids) < 6 :\n",
    "    print('아이디는 6글자 이상이어야 합니다.')\n",
    "else :\n",
    "    print(f'{ids}가 등록 되었습니다.')\n"
   ]
  },
  {
   "cell_type": "code",
   "execution_count": 86,
   "id": "2d0df0b9",
   "metadata": {},
   "outputs": [
    {
     "name": "stdout",
     "output_type": "stream",
     "text": [
      "h가 발견된 위치 0\n",
      "x가 발견된 위치 -1\n"
     ]
    }
   ],
   "source": [
    "# find는 문자를 찾아서 인덱스를 반환해주는 기능\n",
    "a = 'hello'.find('h')\n",
    "print('h가 발견된 위치' , a)\n",
    "\n",
    "b = 'hello'.find('x')\n",
    "print('x가 발견된 위치' , b) # 없는 값이라면 -1을 반환"
   ]
  },
  {
   "cell_type": "code",
   "execution_count": 91,
   "id": "73f1c243",
   "metadata": {},
   "outputs": [
    {
     "name": "stdout",
     "output_type": "stream",
     "text": [
      "생각이 출현된 횟수: 4\n"
     ]
    }
   ],
   "source": [
    "# count는 문자의 출현 빈도\n",
    "a = '생각 이라는 생각은 생각할수록 자꾸 생각이 나는법'\n",
    "\n",
    "result = a.count('생각')\n",
    "print('생각이 출현된 횟수:' ,result)"
   ]
  },
  {
   "cell_type": "code",
   "execution_count": 100,
   "id": "f0847971",
   "metadata": {},
   "outputs": [
    {
     "data": {
      "text/plain": [
       "False"
      ]
     },
     "execution_count": 100,
     "metadata": {},
     "output_type": "execute_result"
    }
   ],
   "source": [
    "#isalpha는 알파벳인지 확인 하는 함수\n",
    "#알파벳으로만 이루어져 있으면 True / 공백이라도 있을 경우 False\n",
    "a = 'Hello Python'\n",
    "a.isalpha() #알파벳으로만 이루어져 있으면 True / 공백이라도 있을 경우 False\n",
    "\n",
    "a = '123123'\n",
    "a.isdecimal() # 정확히 숫자로 이루어져 있다면 True\n"
   ]
  },
  {
   "cell_type": "code",
   "execution_count": 104,
   "id": "1d3242a8",
   "metadata": {},
   "outputs": [
    {
     "name": "stdout",
     "output_type": "stream",
     "text": [
      "HELLO PYTHON\n",
      "hello python\n",
      "Hello Python\n"
     ]
    }
   ],
   "source": [
    "# upper , lower\n",
    "\n",
    "a = \"Hello Python\" \n",
    "print(a.upper()) # 전부 대문자로 변경\n",
    "print(a.lower()) # 전부 소문자로 변경\n",
    "# 문자열 기능을 사용 한다 해서 원본 문자가 변하는 것은 아닙니다.\n",
    "print(a)"
   ]
  },
  {
   "cell_type": "code",
   "execution_count": 110,
   "id": "17aea3a4",
   "metadata": {},
   "outputs": [
    {
     "data": {
      "text/plain": [
       "'오늘 아침에 coffee를 한잔 먹고 , 점심에도 커피를 한잔 먹고 , 저녁에는 커피를 먹지 말아야지'"
      ]
     },
     "execution_count": 110,
     "metadata": {},
     "output_type": "execute_result"
    }
   ],
   "source": [
    "# replace - 문자열 치환\n",
    "\n",
    "a = '오늘 아침에 커피를 한잔 먹고 , 점심에도 커피를 한잔 먹고 , 저녁에는 커피를 먹지 말아야지'\n",
    "\n",
    "a.replace('커피','coffee') # (찾을값 , 바꿀값)\n",
    "\n",
    "a.replace('커피' , 'coffee' , 1) # 변경 할 개수를 지정 할 수도 있습니다."
   ]
  },
  {
   "cell_type": "code",
   "execution_count": 118,
   "id": "2fec532a",
   "metadata": {},
   "outputs": [
    {
     "name": "stdout",
     "output_type": "stream",
     "text": [
      "['떡볶이', '김말이', '튀김', '닭강정', '먹고싶다']\n",
      "['서울', '대전', '대구', '부산', '찍고 ']\n"
     ]
    }
   ],
   "source": [
    "# split - 특정 구분자를 이용해서 문자열을 리스트 형태로 자름\n",
    "\n",
    "a = '떡볶이 김말이 튀김 닭강정 먹고싶다'\n",
    "s1 = a.split() # 화이트 스페이스 (공백 기준) 으로 자름\n",
    "print(s1)\n",
    "\n",
    "b = '서울 -> 대전 -> 대구 -> 부산 -> 찍고 '\n",
    "\n",
    "s2 = b.split(' -> ') # 공백 -> 공백 기준으로 자름\n",
    "print(s2)"
   ]
  },
  {
   "cell_type": "code",
   "execution_count": 2,
   "id": "eac4ddb6",
   "metadata": {},
   "outputs": [
    {
     "name": "stdout",
     "output_type": "stream",
     "text": [
      "1\n"
     ]
    },
    {
     "ename": "ValueError",
     "evalue": "not enough values to unpack (expected 2, got 1)",
     "output_type": "error",
     "traceback": [
      "\u001b[1;31m---------------------------------------------------------------------------\u001b[0m",
      "\u001b[1;31mValueError\u001b[0m                                Traceback (most recent call last)",
      "Cell \u001b[1;32mIn[2], line 1\u001b[0m\n\u001b[1;32m----> 1\u001b[0m a, b \u001b[38;5;241m=\u001b[39m \u001b[38;5;28minput\u001b[39m()\u001b[38;5;241m.\u001b[39msplit()\n\u001b[0;32m      3\u001b[0m \u001b[38;5;28mprint\u001b[39m(\u001b[38;5;28mint\u001b[39m(a) , \u001b[38;5;28mint\u001b[39m(b))\n",
      "\u001b[1;31mValueError\u001b[0m: not enough values to unpack (expected 2, got 1)"
     ]
    }
   ],
   "source": [
    "a, b = input().split()\n",
    "\n",
    "print(int(a) , int(b))"
   ]
  },
  {
   "cell_type": "code",
   "execution_count": null,
   "id": "8d39987d",
   "metadata": {},
   "outputs": [],
   "source": []
  },
  {
   "cell_type": "code",
   "execution_count": null,
   "id": "caff989d",
   "metadata": {},
   "outputs": [],
   "source": []
  },
  {
   "cell_type": "code",
   "execution_count": null,
   "id": "ccfbb566",
   "metadata": {},
   "outputs": [],
   "source": []
  },
  {
   "cell_type": "code",
   "execution_count": null,
   "id": "9e092a8d",
   "metadata": {},
   "outputs": [],
   "source": []
  },
  {
   "cell_type": "code",
   "execution_count": null,
   "id": "eb371bf9",
   "metadata": {},
   "outputs": [],
   "source": []
  },
  {
   "cell_type": "code",
   "execution_count": null,
   "id": "05280404",
   "metadata": {},
   "outputs": [],
   "source": []
  },
  {
   "cell_type": "code",
   "execution_count": null,
   "id": "b7688833",
   "metadata": {},
   "outputs": [],
   "source": []
  }
 ],
 "metadata": {
  "kernelspec": {
   "display_name": "Python 3 (ipykernel)",
   "language": "python",
   "name": "python3"
  },
  "language_info": {
   "codemirror_mode": {
    "name": "ipython",
    "version": 3
   },
   "file_extension": ".py",
   "mimetype": "text/x-python",
   "name": "python",
   "nbconvert_exporter": "python",
   "pygments_lexer": "ipython3",
   "version": "3.11.5"
  }
 },
 "nbformat": 4,
 "nbformat_minor": 5
}
