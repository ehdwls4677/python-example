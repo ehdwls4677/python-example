{
 "cells": [
  {
   "cell_type": "markdown",
   "id": "c8987346",
   "metadata": {},
   "source": [
    "#### 문자열 연산"
   ]
  },
  {
   "cell_type": "code",
   "execution_count": 1,
   "id": "e63d6b91",
   "metadata": {},
   "outputs": [
    {
     "name": "stdout",
     "output_type": "stream",
     "text": [
      "오늘 저녁은치킨이다! 와 맛있겠다 !비비큐로 먹어야지!\n"
     ]
    }
   ],
   "source": [
    "s1 = \"오늘 저녁은\"\n",
    "s2 = \"치킨이다\"\n",
    "\n",
    "s3 = s1 + s2\n",
    "s3\n",
    "\n",
    "print( s1 + s2 + \"! 와 맛있겠다 !\" + \"비비큐로 먹어야지!\")"
   ]
  },
  {
   "cell_type": "code",
   "execution_count": 2,
   "id": "9f51b840",
   "metadata": {},
   "outputs": [
    {
     "name": "stdout",
     "output_type": "stream",
     "text": [
      "winner winner chicken dinner!!!!winner winner chicken dinner!!!!winner winner chicken dinner!!!!\n"
     ]
    }
   ],
   "source": [
    "# 파이썬에서는 문자열 곱셈도 가능합니다.\n",
    "a= 'winner winner chicken dinner!!!!'\n",
    "\n",
    "print ( a*3)"
   ]
  },
  {
   "cell_type": "code",
   "execution_count": 3,
   "id": "aac8b68c",
   "metadata": {},
   "outputs": [
    {
     "ename": "TypeError",
     "evalue": "can only concatenate str (not \"int\") to str",
     "output_type": "error",
     "traceback": [
      "\u001b[1;31m---------------------------------------------------------------------------\u001b[0m",
      "\u001b[1;31mTypeError\u001b[0m                                 Traceback (most recent call last)",
      "Cell \u001b[1;32mIn[3], line 2\u001b[0m\n\u001b[0;32m      1\u001b[0m \u001b[38;5;66;03m# 문자열과 서로 다른 타입은 연산이 허용 되지 않음\u001b[39;00m\n\u001b[1;32m----> 2\u001b[0m \u001b[38;5;28mprint\u001b[39m (a \u001b[38;5;241m+\u001b[39m \u001b[38;5;241m10\u001b[39m)\n",
      "\u001b[1;31mTypeError\u001b[0m: can only concatenate str (not \"int\") to str"
     ]
    }
   ],
   "source": [
    "# 문자열과 서로 다른 타입은 연산이 허용 되지 않음\n",
    "print (a + 10)"
   ]
  },
  {
   "cell_type": "markdown",
   "id": "68c88df9",
   "metadata": {},
   "source": [
    "#### 형 변환\n",
    "\n",
    "-int()  \n",
    "-float()  \n",
    "-str()  \n",
    "-bool()  "
   ]
  },
  {
   "cell_type": "code",
   "execution_count": null,
   "id": "c8437ed3",
   "metadata": {},
   "outputs": [],
   "source": [
    "name = '홍길동'\n",
    "point = 90\n",
    "\n",
    "print(name + '님의 점수는' + str(point) + '입니다')"
   ]
  },
  {
   "cell_type": "code",
   "execution_count": null,
   "id": "56875e47",
   "metadata": {},
   "outputs": [],
   "source": [
    "str(point) # '90'\n",
    "float(point) # 90.0\n",
    "int(3.14) # 3\n",
    "bool('True') # 논리형으로 변경\n",
    "\n",
    "int(name) # 바뀔 수 없는 값은 형 변환시에 에러를 발생 시킴"
   ]
  },
  {
   "cell_type": "code",
   "execution_count": null,
   "id": "38e9c4fb",
   "metadata": {},
   "outputs": [],
   "source": [
    "# 형 변환 함수를 사용 한다 해서 원본 변수가 바뀌는 것이 아닙니다.\n",
    "# 원본 변수를 바꿔서 새로운 변수로 사용을 하려면 \n",
    "x = str(point)\n",
    "x\n",
    "\n",
    "y = int(3.14)\n",
    "y\n",
    "\n",
    "# 문자열 => 실수형 => 정수형 => 변수저장\n",
    "z=\"3.141592\"\n",
    "\n",
    "k = int(float(z))\n",
    "k\n",
    "\n",
    "type(k)"
   ]
  },
  {
   "cell_type": "markdown",
   "id": "e021b44b",
   "metadata": {},
   "source": [
    "#### 표준 입력 input()"
   ]
  },
  {
   "cell_type": "code",
   "execution_count": null,
   "id": "e2ef3dc6",
   "metadata": {},
   "outputs": [],
   "source": [
    "a1 = input(\"안녕\")\n",
    "\n",
    "print(\"입력한 값은:\" + a1)"
   ]
  },
  {
   "cell_type": "code",
   "execution_count": null,
   "id": "5beb3794",
   "metadata": {},
   "outputs": [],
   "source": [
    "a2 = input('너 별명이 뭐니?')\n",
    "\n",
    "print('너의 별명은 :' + a2)"
   ]
  },
  {
   "cell_type": "code",
   "execution_count": null,
   "id": "a43df9cd",
   "metadata": {},
   "outputs": [],
   "source": [
    "n1 = int( input('숫자 입력>') )\n",
    "n2 = int( input('숫자 입력>') )\n",
    "\n",
    "print('두 숫자의 합:' , + n1 + n2 )"
   ]
  },
  {
   "cell_type": "code",
   "execution_count": 29,
   "id": "c110202f",
   "metadata": {},
   "outputs": [
    {
     "name": "stdout",
     "output_type": "stream",
     "text": [
      "이름을 입력하세요: 윤동진\n",
      "나이를 입력하세요: 28\n",
      "---------------------------------------\n",
      "이름:윤동진\n",
      "나이: 28 세\n",
      "출생년도: 1996 년\n"
     ]
    }
   ],
   "source": [
    "n3 = input('이름을 입력하세요: ')\n",
    "n4 = int(input('나이를 입력하세요: '))\n",
    "n5 = 2023\n",
    "years = n5 - n4 + 1\n",
    "print(\"---------------------------------------\")\n",
    "print(\"이름:\" + n3)\n",
    "print(\"나이:\" ,n4 , \"세\")\n",
    "print(\"출생년도:\" , years , \"년\")"
   ]
  },
  {
   "cell_type": "code",
   "execution_count": 34,
   "id": "e82db120",
   "metadata": {},
   "outputs": [
    {
     "name": "stdout",
     "output_type": "stream",
     "text": [
      "음식의 가격 :4000\n",
      "사람 수 :10\n",
      "------------------------------\n",
      "가게에 지불 해야 할 금액 : 40000 원\n"
     ]
    }
   ],
   "source": [
    "p1 = int(input('음식의 가격 :'))\n",
    "p2 = int(input('사람 수 :'))\n",
    "\n",
    "print('-' * 30)\n",
    "print(\"가게에 지불 해야 할 금액 :\" , p1 * p2 , \"원\")"
   ]
  },
  {
   "cell_type": "code",
   "execution_count": null,
   "id": "a14b5415",
   "metadata": {},
   "outputs": [],
   "source": []
  },
  {
   "cell_type": "code",
   "execution_count": null,
   "id": "d6ec01e1",
   "metadata": {},
   "outputs": [],
   "source": []
  }
 ],
 "metadata": {
  "kernelspec": {
   "display_name": "Python 3 (ipykernel)",
   "language": "python",
   "name": "python3"
  },
  "language_info": {
   "codemirror_mode": {
    "name": "ipython",
    "version": 3
   },
   "file_extension": ".py",
   "mimetype": "text/x-python",
   "name": "python",
   "nbconvert_exporter": "python",
   "pygments_lexer": "ipython3",
   "version": "3.11.5"
  }
 },
 "nbformat": 4,
 "nbformat_minor": 5
}
