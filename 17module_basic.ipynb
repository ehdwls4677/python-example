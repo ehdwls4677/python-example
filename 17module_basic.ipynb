{
 "cells": [
  {
   "cell_type": "markdown",
   "id": "43fda658",
   "metadata": {},
   "source": [
    "#### 모듈\n",
    "- 모듈이란 , 파이썬에 미리 만들어져 있는 스크립트 파일 \n",
    "\n",
    "- import 모듈명을 사용 합니다."
   ]
  },
  {
   "cell_type": "code",
   "execution_count": 4,
   "id": "e4bb9ae2",
   "metadata": {},
   "outputs": [
    {
     "data": {
      "text/plain": [
       "'Tue Oct 24 15:21:07 2023'"
      ]
     },
     "execution_count": 4,
     "metadata": {},
     "output_type": "execute_result"
    }
   ],
   "source": [
    "import time\n",
    "\n",
    "# 모듈안에 기능을 사용할때는 . 으로 사용합니다.\n",
    "\n",
    "result = time.ctime() # shift + tab\n",
    "\n",
    "result"
   ]
  },
  {
   "cell_type": "code",
   "execution_count": 8,
   "id": "1c57c618",
   "metadata": {},
   "outputs": [
    {
     "data": {
      "text/plain": [
       "0.3010299956639812"
      ]
     },
     "execution_count": 8,
     "metadata": {},
     "output_type": "execute_result"
    }
   ],
   "source": [
    "import math\n",
    "\n",
    "math.ceil(3.14) # 올림\n",
    "\n",
    "math.sqrt(4) # root값\n",
    "\n",
    "math.floor(3.14) # 내림\n",
    "\n",
    "math.log10(2) # log값"
   ]
  },
  {
   "cell_type": "code",
   "execution_count": 12,
   "id": "9bcf8db2",
   "metadata": {},
   "outputs": [
    {
     "data": {
      "text/plain": [
       "2.0"
      ]
     },
     "execution_count": 12,
     "metadata": {},
     "output_type": "execute_result"
    }
   ],
   "source": [
    "# 모듈 가져오기 방법 2 - math 모듈에서 ceil , floor , sqrt를 가져옴\n",
    "\n",
    "from math import ceil , floor , sqrt # 가져올 함수\n",
    "# 직접 함수를 가져온 문장이기 때문에 함수명() 곧바로 사용 가능\n",
    "ceil(3.14)\n",
    "floor(3.14)\n",
    "sqrt(4)"
   ]
  },
  {
   "cell_type": "code",
   "execution_count": 13,
   "id": "8b46b277",
   "metadata": {},
   "outputs": [
    {
     "data": {
      "text/plain": [
       "'Tue Oct 24 15:31:12 2023'"
      ]
     },
     "execution_count": 13,
     "metadata": {},
     "output_type": "execute_result"
    }
   ],
   "source": [
    "# 모듈 가져오기 방법 2 별칭 짓기 - ctime 함수의 별칭을 c로 사용\n",
    "from time import ctime as c # as c 를 이용하여 ctime 함수의 별칭을 c로 사용\n",
    "\n",
    "c()"
   ]
  },
  {
   "cell_type": "code",
   "execution_count": 32,
   "id": "998b3de8",
   "metadata": {},
   "outputs": [
    {
     "data": {
      "text/plain": [
       "0.6957073368813121"
      ]
     },
     "execution_count": 32,
     "metadata": {},
     "output_type": "execute_result"
    }
   ],
   "source": [
    "# 모듈 가져오기 방법 3 - 보통 가장 많이 사용 하는 방법 \n",
    "\n",
    "import random as r # random 모듈을 r 별칭으로 가져오기\n",
    "\n",
    "r.random() # random은 랜덤한 값을 가져오는 함수"
   ]
  },
  {
   "cell_type": "code",
   "execution_count": 36,
   "id": "e66bf2b4",
   "metadata": {},
   "outputs": [
    {
     "data": {
      "text/html": [
       "<div>\n",
       "<style scoped>\n",
       "    .dataframe tbody tr th:only-of-type {\n",
       "        vertical-align: middle;\n",
       "    }\n",
       "\n",
       "    .dataframe tbody tr th {\n",
       "        vertical-align: top;\n",
       "    }\n",
       "\n",
       "    .dataframe thead th {\n",
       "        text-align: right;\n",
       "    }\n",
       "</style>\n",
       "<table border=\"1\" class=\"dataframe\">\n",
       "  <thead>\n",
       "    <tr style=\"text-align: right;\">\n",
       "      <th></th>\n",
       "      <th>이름</th>\n",
       "      <th>나이</th>\n",
       "      <th>점수</th>\n",
       "    </tr>\n",
       "  </thead>\n",
       "  <tbody>\n",
       "    <tr>\n",
       "      <th>0</th>\n",
       "      <td>홍길동</td>\n",
       "      <td>10</td>\n",
       "      <td>100</td>\n",
       "    </tr>\n",
       "    <tr>\n",
       "      <th>1</th>\n",
       "      <td>이순신</td>\n",
       "      <td>20</td>\n",
       "      <td>90</td>\n",
       "    </tr>\n",
       "  </tbody>\n",
       "</table>\n",
       "</div>"
      ],
      "text/plain": [
       "    이름  나이   점수\n",
       "0  홍길동  10  100\n",
       "1  이순신  20   90"
      ]
     },
     "execution_count": 36,
     "metadata": {},
     "output_type": "execute_result"
    }
   ],
   "source": [
    "import pandas as pd\n",
    "data = {\n",
    "    '이름' : ['홍길동' , '이순신'],\n",
    "    '나이' : [10,20] ,\n",
    "    '점수' : [100 , 90]\n",
    "}\n",
    "pd.DataFrame(data)"
   ]
  },
  {
   "cell_type": "code",
   "execution_count": null,
   "id": "c606c2de",
   "metadata": {},
   "outputs": [],
   "source": []
  },
  {
   "cell_type": "code",
   "execution_count": null,
   "id": "b69f16a1",
   "metadata": {},
   "outputs": [],
   "source": []
  },
  {
   "cell_type": "code",
   "execution_count": null,
   "id": "8a7101a5",
   "metadata": {},
   "outputs": [],
   "source": []
  },
  {
   "cell_type": "code",
   "execution_count": null,
   "id": "de53383e",
   "metadata": {},
   "outputs": [],
   "source": []
  },
  {
   "cell_type": "code",
   "execution_count": null,
   "id": "7f8ddec9",
   "metadata": {},
   "outputs": [],
   "source": []
  },
  {
   "cell_type": "code",
   "execution_count": null,
   "id": "77b5ce81",
   "metadata": {},
   "outputs": [],
   "source": []
  },
  {
   "cell_type": "code",
   "execution_count": null,
   "id": "e449d8aa",
   "metadata": {},
   "outputs": [],
   "source": []
  },
  {
   "cell_type": "code",
   "execution_count": null,
   "id": "648c6d65",
   "metadata": {},
   "outputs": [],
   "source": []
  },
  {
   "cell_type": "code",
   "execution_count": null,
   "id": "be6f9b39",
   "metadata": {},
   "outputs": [],
   "source": []
  },
  {
   "cell_type": "code",
   "execution_count": null,
   "id": "b598e652",
   "metadata": {},
   "outputs": [],
   "source": []
  }
 ],
 "metadata": {
  "kernelspec": {
   "display_name": "Python 3 (ipykernel)",
   "language": "python",
   "name": "python3"
  },
  "language_info": {
   "codemirror_mode": {
    "name": "ipython",
    "version": 3
   },
   "file_extension": ".py",
   "mimetype": "text/x-python",
   "name": "python",
   "nbconvert_exporter": "python",
   "pygments_lexer": "ipython3",
   "version": "3.11.5"
  }
 },
 "nbformat": 4,
 "nbformat_minor": 5
}
