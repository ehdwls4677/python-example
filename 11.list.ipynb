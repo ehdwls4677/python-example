{
 "cells": [
  {
   "cell_type": "markdown",
   "id": "6cc57f50",
   "metadata": {},
   "source": [
    "#### 리스트\n",
    "\n",
    "1.여러개의 값을 한번에 저장하기 위한 파이썬의 자료형\n",
    "2.리스트를 만드는 방법\n",
    "\n",
    ">[데이터]  \n",
    ">list()"
   ]
  },
  {
   "cell_type": "code",
   "execution_count": 1,
   "id": "f3194a2f",
   "metadata": {},
   "outputs": [
    {
     "name": "stdout",
     "output_type": "stream",
     "text": [
      "a\n",
      "b\n",
      "c\n",
      "d\n",
      "e\n"
     ]
    }
   ],
   "source": [
    "#리스트를 만드는 방법\n",
    "x = ['a','b','c','d','e']\n",
    "\n",
    "type(x) # 리스트\n",
    "\n",
    "for i in x : #리스트는 순서를 가져서 반복이 가능함\n",
    "    print(i)"
   ]
  },
  {
   "cell_type": "code",
   "execution_count": 2,
   "id": "394c7e4a",
   "metadata": {},
   "outputs": [
    {
     "data": {
      "text/plain": [
       "[1, 2, 3, 4, 5, 6, 7, 8, 9, 10]"
      ]
     },
     "execution_count": 2,
     "metadata": {},
     "output_type": "execute_result"
    }
   ],
   "source": [
    "# 리스트를 만드는 방법\n",
    "#list()\n",
    "x = list (range(1,11)) #range(이상 , 미만 , 스탭)\n",
    "x"
   ]
  },
  {
   "cell_type": "markdown",
   "id": "de53fcfb",
   "metadata": {},
   "source": [
    "#### 리스트의 인덱싱과 슬라이싱"
   ]
  },
  {
   "cell_type": "code",
   "execution_count": 3,
   "id": "4d821729",
   "metadata": {},
   "outputs": [
    {
     "name": "stdout",
     "output_type": "stream",
     "text": [
      "[1, 2, 3, 4, 5, 6, 7, 8, 9, 10]\n"
     ]
    },
    {
     "data": {
      "text/plain": [
       "10"
      ]
     },
     "execution_count": 3,
     "metadata": {},
     "output_type": "execute_result"
    }
   ],
   "source": [
    "print(x)\n",
    "x[0]\n",
    "x[1]\n",
    "x[9] # x[-1]"
   ]
  },
  {
   "cell_type": "code",
   "execution_count": 4,
   "id": "a2c5c115",
   "metadata": {},
   "outputs": [
    {
     "data": {
      "text/plain": [
       "[3, 5, 7]"
      ]
     },
     "execution_count": 4,
     "metadata": {},
     "output_type": "execute_result"
    }
   ],
   "source": [
    "# 리스트 슬라이싱\n",
    "x[0: ] \n",
    "x[2: 5]\n",
    "x[:] # 처음 - 끝\n",
    "\n",
    "x[2:8:2] # 3 ~ 8미만에서 step2씩 슬라이싱"
   ]
  },
  {
   "cell_type": "markdown",
   "id": "a64c9de4",
   "metadata": {},
   "source": [
    "# 리스트의 값 변경"
   ]
  },
  {
   "cell_type": "code",
   "execution_count": 5,
   "id": "9b14fd4f",
   "metadata": {},
   "outputs": [
    {
     "name": "stdout",
     "output_type": "stream",
     "text": [
      "햄버거 짜장면 피자\n"
     ]
    },
    {
     "data": {
      "text/plain": [
       "['짬뽕', '짜장면', '치킨', '탕수육', '볶음밥']"
      ]
     },
     "execution_count": 5,
     "metadata": {},
     "output_type": "execute_result"
    }
   ],
   "source": [
    "# 값을 가져오기\n",
    "foods = [\"햄버거\" , \"짜장면\" , \"치킨\" , \"탕수육\" , \"피자\"]\n",
    "a = foods[0]\n",
    "b = foods[1]\n",
    "c = foods[4]\n",
    "\n",
    "print(a , b , c)\n",
    "\n",
    "#값을 변경하기\n",
    "foods[0] = \"짬뽕\"\n",
    "foods[4] = \"볶음밥\"\n",
    "\n",
    "foods"
   ]
  },
  {
   "cell_type": "code",
   "execution_count": 6,
   "id": "1a13898c",
   "metadata": {},
   "outputs": [
    {
     "name": "stdout",
     "output_type": "stream",
     "text": [
      "짬뽕 ['짜장면', '치킨', '탕수육', '볶음밥']\n",
      "짬뽕 ['짜장면', '치킨'] 탕수육 볶음밥\n"
     ]
    }
   ],
   "source": [
    "type(foods)\n",
    "#구조분해할당\n",
    "a,b,c,d,e = foods # 좌항의 변수와 리스트 요소의 개수가 일치하면 , 한번에 저장\n",
    "\n",
    "x, *y = foods # *y 나머지 전부를 리스트 형태로 구조분해할당\n",
    "\n",
    "print(x, y) \n",
    "\n",
    "x, *y , z , k =foods # 중간에 있는 값을 리스트 형태로 구조분해할당\n",
    "\n",
    "print(x, y, z, k)"
   ]
  },
  {
   "cell_type": "code",
   "execution_count": 7,
   "id": "f949adf7",
   "metadata": {},
   "outputs": [
    {
     "name": "stdout",
     "output_type": "stream",
     "text": [
      "['짬뽕', '짜장면', '치킨', '탕수육', '볶음밥']\n",
      "[[1, 2, 3], [4, 5, 6], [7, 8, 9]]\n"
     ]
    },
    {
     "data": {
      "text/plain": [
       "[2]"
      ]
     },
     "execution_count": 7,
     "metadata": {},
     "output_type": "execute_result"
    }
   ],
   "source": [
    "# 2차원 리스트\n",
    "print(foods)\n",
    "\n",
    "foods[1][0] # 짜\n",
    "foods[1][1] # 장\n",
    "foods[1][2] # 면\n",
    "\n",
    "#[\"짜\" , \" 장\" , \"면\"]\n",
    "\n",
    "list1 = [ [1,2,3], [4,5,6], [7,8,9] ]\n",
    "print(list1)\n",
    "\n",
    "list1[0] # [1,2,3]\n",
    "list1[0][0] # [1,2,3]\n",
    "list1[0][1 : 2] # 인덱싱과 슬라이싱"
   ]
  },
  {
   "cell_type": "markdown",
   "id": "348ddf7d",
   "metadata": {},
   "source": [
    "# 리스트 연산"
   ]
  },
  {
   "cell_type": "code",
   "execution_count": 8,
   "id": "c84c26c9",
   "metadata": {},
   "outputs": [
    {
     "name": "stdout",
     "output_type": "stream",
     "text": [
      "[1, 2, 3, 4, 5, 10, 11]\n",
      "[1, 2, 3, 4, 5, 1, 2, 3, 4, 5, 1, 2, 3, 4, 5]\n"
     ]
    }
   ],
   "source": [
    "list2 = [1,2,3,4,5]\n",
    "list3 = [10, 11]\n",
    "\n",
    "print(list2 + list3) # 끝에 더해서 새로운 리스트를 생성\n",
    "# list2 * list3 곱셈은 err\n",
    "print( list2 * 3) # 숫자를 이용해서는 곱셈이 가능합니다."
   ]
  },
  {
   "cell_type": "markdown",
   "id": "827732cc",
   "metadata": {},
   "source": [
    "# 실습"
   ]
  },
  {
   "cell_type": "code",
   "execution_count": 9,
   "id": "270a56f9",
   "metadata": {},
   "outputs": [
    {
     "name": "stdout",
     "output_type": "stream",
     "text": [
      "합계:460\n",
      "평균:65.71428571428571\n"
     ]
    }
   ],
   "source": [
    "#이 리스트의 숫자 값의 합계와 평균을 출력\n",
    "points = [30, 42, 55, 95, 100, 66, 72]\n",
    "\n",
    "sum_ = 0 # 합계\n",
    "for i in points :\n",
    "    sum_ += i\n",
    "print(f'합계:{sum_}')\n",
    "print(f'평균:{sum_ / len(points)}')"
   ]
  },
  {
   "cell_type": "code",
   "execution_count": 10,
   "id": "58ee5d36",
   "metadata": {},
   "outputs": [],
   "source": [
    "points = list (range(1000,2000,3))"
   ]
  },
  {
   "cell_type": "code",
   "execution_count": 11,
   "id": "f4db820a",
   "metadata": {},
   "outputs": [
    {
     "data": {
      "text/plain": [
       "True"
      ]
     },
     "execution_count": 11,
     "metadata": {},
     "output_type": "execute_result"
    }
   ],
   "source": [
    "points = [99, 17, 87, 100, 55, 100, 99, 100, 22]\n",
    "#index - 해당 값을 찾아서 발견한 인덱스를 반환\n",
    "\n",
    "#poimts.index(2) # 찾는 값이 없으면 에러\n",
    "\n",
    "#points.index(100 ,4) #찾는값 #4번째 인덱스 부터 탐색\n",
    "points.count(100) # 100은 3개 있습니다.\n",
    "\n",
    "# in 문장\n",
    "101 in points # 있다면 True 반환 , 없으면 False\n",
    "100 in points"
   ]
  },
  {
   "cell_type": "code",
   "execution_count": 12,
   "id": "178ebecf",
   "metadata": {},
   "outputs": [
    {
     "name": "stdout",
     "output_type": "stream",
     "text": [
      "[17, 22, 55, 87, 99, 99, 100, 100, 100]\n",
      "[100, 100, 100, 99, 99, 87, 55, 22, 17]\n",
      "[17, 22, 55, 87, 99, 99, 100, 100, 100]\n",
      "[100, 100, 100, 99, 99, 87, 55, 22, 17]\n"
     ]
    }
   ],
   "source": [
    "#sort 정렬 , reverse\n",
    "\n",
    "points.sort() # 리스트 자체값이 정렬 됨\n",
    "\n",
    "print (points)\n",
    "\n",
    "# 내림차순 정렬\n",
    "points.sort(reverse = True)\n",
    "print(points)\n",
    "\n",
    "# 거꾸로\n",
    "points.reverse()\n",
    "print(points)\n",
    "points.reverse()\n",
    "print(points)"
   ]
  },
  {
   "cell_type": "code",
   "execution_count": 15,
   "id": "92bc14bb",
   "metadata": {},
   "outputs": [
    {
     "data": {
      "text/plain": [
       "[1, 2, 3, 100, 4, 100]"
      ]
     },
     "execution_count": 15,
     "metadata": {},
     "output_type": "execute_result"
    }
   ],
   "source": [
    "# 리스트에 값을 추가 insert , append\n",
    "\n",
    "nums = [1,2,3,4]\n",
    "nums.append(100) # 끝에 추가\n",
    "\n",
    "nums\n",
    "\n",
    "nums.insert(3,100) # 3번째 인덱스 , 100추가\n",
    "\n",
    "nums"
   ]
  },
  {
   "cell_type": "code",
   "execution_count": 14,
   "id": "9c538cca",
   "metadata": {},
   "outputs": [
    {
     "data": {
      "text/plain": [
       "[1, 2, 3, 4, 100]"
      ]
     },
     "execution_count": 14,
     "metadata": {},
     "output_type": "execute_result"
    }
   ],
   "source": [
    "# 삭제 remove , 공용함수 del , clear , pop\n",
    "# 값으로 지울 때 remove 사용\n",
    "nums.remove(100) # 첫번째 발견되는 100을 삭제\n",
    "nums"
   ]
  },
  {
   "cell_type": "code",
   "execution_count": 16,
   "id": "dc09c68b",
   "metadata": {},
   "outputs": [
    {
     "data": {
      "text/plain": [
       "[2, 3, 100, 4, 100]"
      ]
     },
     "execution_count": 16,
     "metadata": {},
     "output_type": "execute_result"
    }
   ],
   "source": [
    "# del은 인덱스 번호로 삭제\n",
    "del (nums [0]) # 0번 인덱스 삭제\n",
    "nums"
   ]
  },
  {
   "cell_type": "code",
   "execution_count": 18,
   "id": "4b27798d",
   "metadata": {},
   "outputs": [
    {
     "data": {
      "text/plain": [
       "[]"
      ]
     },
     "execution_count": 18,
     "metadata": {},
     "output_type": "execute_result"
    }
   ],
   "source": [
    "#clear는 리스트를 비웁니다.\n",
    "nums = [1,2,3,4]\n",
    "nums\n",
    "nums.clear()\n",
    "nums"
   ]
  },
  {
   "cell_type": "code",
   "execution_count": null,
   "id": "880ee027",
   "metadata": {},
   "outputs": [],
   "source": []
  }
 ],
 "metadata": {
  "kernelspec": {
   "display_name": "Python 3 (ipykernel)",
   "language": "python",
   "name": "python3"
  },
  "language_info": {
   "codemirror_mode": {
    "name": "ipython",
    "version": 3
   },
   "file_extension": ".py",
   "mimetype": "text/x-python",
   "name": "python",
   "nbconvert_exporter": "python",
   "pygments_lexer": "ipython3",
   "version": "3.11.5"
  }
 },
 "nbformat": 4,
 "nbformat_minor": 5
}
